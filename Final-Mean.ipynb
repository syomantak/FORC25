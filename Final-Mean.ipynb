{
 "cells": [
  {
   "cell_type": "code",
   "execution_count": 1,
   "id": "30d9e04c",
   "metadata": {},
   "outputs": [],
   "source": [
    "import numpy as np\n",
    "import matplotlib.pyplot as plt\n",
    "import pandas as pd\n",
    "import cvxpy as cp\n",
    "import time\n",
    "from tqdm import tqdm"
   ]
  },
  {
   "cell_type": "code",
   "execution_count": 2,
   "id": "0c780d75",
   "metadata": {},
   "outputs": [],
   "source": [
    "def solve_hetdp_cor(eps, k, beta, num_solver):\n",
    "\tn = len(eps)\n",
    "\tones = np.ones(n)\n",
    "\n",
    "\tw = cp.Variable(n)\n",
    "\tobjective2 = cp.Minimize(cp.power(cp.norm(w/eps,'inf'),2)*((np.log(k/beta))**2) + cp.power(cp.norm(w - (ones/n),1),2))\n",
    "\tconstraints2 = [0 <= w, w@ones == 1]\n",
    "\tprob2 = cp.Problem(objective2, constraints2)\n",
    "\tresult2 = prob2.solve(solver = num_solver)\n",
    "\n",
    "\treturn w.value, np.sqrt(result2)\n",
    "\n",
    "\n",
    "\n",
    "def solve_hetdp_uncor(eps, k, beta, num_solver):\n",
    "\tn = len(eps)\n",
    "\tones = np.ones(n)\n",
    "\n",
    "\tw = cp.Variable(n)\n",
    "\tobjective1 = cp.Minimize(cp.power(cp.norm(w/eps,'inf'),2)*((np.log(k/beta))**2) + cp.power(cp.norm(w - (ones/n),1),2))\n",
    "\tconstraints1 = [0 <= w, w@ones == 1]\n",
    "\tprob1 = cp.Problem(objective1, constraints1)\n",
    "\tresult1 = prob1.solve(solver = num_solver)\n",
    "\n",
    "\tw2 = cp.Variable(n)\n",
    "\tobjective2 = cp.Minimize(cp.power(cp.norm(w2/eps,'inf'),2)*((np.log(k/beta))**2) + cp.power(cp.norm(w2,2),2)*np.log(k/beta))\n",
    "\tconstraints2 = [0 <= w2, w2@ones == 1]\n",
    "\tprob2 = cp.Problem(objective2, constraints2)\n",
    "\tresult2 = prob2.solve(solver = num_solver)\n",
    "\n",
    "\tif result1 < result2:\n",
    "\t\treturn w.value, np.sqrt(result1)\n",
    "\telse:\n",
    "\t\treturn w2.value, np.sqrt(result2)"
   ]
  },
  {
   "cell_type": "code",
   "execution_count": 3,
   "id": "20c3f8f1",
   "metadata": {},
   "outputs": [],
   "source": [
    "def LDP(eps, Data, trials):\n",
    "\tn = len(eps)\n",
    "\n",
    "\tresponse_noise = np.random.laplace(0, 1/eps, (trials, n))\n",
    "\tldp_data = Data + response_noise\n",
    "\treturn ldp_data"
   ]
  },
  {
   "cell_type": "code",
   "execution_count": 4,
   "id": "602d49a6",
   "metadata": {},
   "outputs": [],
   "source": [
    "def get_error(est,mean):\n",
    "\treturn min(np.abs(est - mean),1)\n",
    "def get_error_vector(est,mean):\n",
    "\t## est is trials \n",
    "\treturn np.minimum(np.abs(est-mean),1)\n",
    "\t"
   ]
  },
  {
   "cell_type": "code",
   "execution_count": 5,
   "id": "ae0b23f2",
   "metadata": {},
   "outputs": [],
   "source": [
    "def gen_dataset(n,k, lamb=1):\n",
    "\n",
    "\tp = np.power(lamb,np.arange(k))\n",
    "\tp = p/np.sum(p)\n",
    "\n",
    "\tD = np.random.choice(k, size = n, p = p)\n",
    "\tDMatrix = np.zeros((k,n))\n",
    "\tfor i in range(n):\n",
    "\t\tDMatrix[D[i],i] = 1\n",
    "\t\n",
    "\tcounts = np.sum(DMatrix,axis=1)\n",
    "\treturn DMatrix, counts"
   ]
  },
  {
   "cell_type": "markdown",
   "id": "760a5946",
   "metadata": {},
   "source": [
    "## UC Salary, C, P"
   ]
  },
  {
   "cell_type": "code",
   "execution_count": 28,
   "metadata": {},
   "outputs": [],
   "source": [
    "## Real Dataset\n",
    "np.random.seed(1)\n",
    "df =  pd.read_csv('UCData.csv')\n",
    "x = np.array(df['TotalWages'])\n",
    "\n",
    "x = np.random.choice(x,50000,replace=False) #sub-sample dataset\n",
    "x = x/5000000\n",
    "\n",
    "bins = [0,np.quantile(x,0.1),np.quantile(x,0.2),np.quantile(x,0.3),np.quantile(x,0.4),np.quantile(x,0.5),np.quantile(x,0.6),np.quantile(x,0.7),np.quantile(x,0.8),np.quantile(x,0.9),500000]\n",
    "def get_bin(x,bins):\n",
    "\treturn np.digitize(x,bins) - 1\n",
    "\n",
    "eps = np.zeros(len(x))\n",
    "for i in range(len(x)):\n",
    "\teps[i] = np.exp(-2*abs(get_bin(x[i],bins)-4.5) + 2)"
   ]
  },
  {
   "cell_type": "code",
   "execution_count": 29,
   "id": "3c193415",
   "metadata": {},
   "outputs": [
    {
     "name": "stdout",
     "output_type": "stream",
     "text": [
      "Mean is  0.012921387008\n",
      "Done HPm-CP in  4.636638164520264  seconds\n",
      "Done HPF-A in  0.005127906799316406  seconds\n",
      "Done Prop in  0.0009846687316894531  seconds\n",
      "Done UNI in  0.0008640289306640625  seconds\n",
      "Done SM in  9.438791990280151  seconds\n",
      "Done LDP in  9.59471321105957  seconds\n"
     ]
    },
    {
     "name": "stderr",
     "output_type": "stream",
     "text": [
      "/opt/anaconda3/lib/python3.8/site-packages/cvxpy/problems/problem.py:1296: UserWarning: Solution may be inaccurate. Try another solver, adjusting the solver settings, or solve with verbose=True for more information.\n",
      "  warnings.warn(\n"
     ]
    },
    {
     "name": "stdout",
     "output_type": "stream",
     "text": [
      "Done HPM-CE in  8.65012502670288  seconds\n"
     ]
    }
   ],
   "source": [
    "### Correlated\n",
    "np.random.seed(1)\n",
    "beta = 0.05\n",
    "n = len(x)\n",
    "k = 1\n",
    "trials = 5000\n",
    "\n",
    "mean = np.mean(x)\n",
    "print('Mean is ',np.mean(x))\n",
    "\n",
    "### hpm-cp ###\n",
    "begin = time.time()\n",
    "w_hpmcp, result = solve_hetdp_cor(eps, k, beta, cp.ECOS)\n",
    "L_hpmcp = np.max(w_hpmcp/eps)\n",
    "N_hpmcp = np.random.laplace(0,L_hpmcp,trials)\n",
    "end = time.time()\n",
    "print('Done HPm-CP in ',end-begin,' seconds')\n",
    "\n",
    "\n",
    "### hpfa ###\n",
    "begin = time.time()\n",
    "w_hpfa = 1-np.exp(-eps)\n",
    "w_hpfa = w_hpfa/np.sum(w_hpfa)\n",
    "infty_norm = np.max(w_hpfa/eps)\n",
    "L_hpfa = infty_norm\n",
    "N_hpfa = np.random.laplace(0,L_hpfa,trials)\n",
    "end = time.time()\n",
    "print('Done HPF-A in ',end-begin,' seconds')\n",
    "\n",
    "\n",
    "### Prop ###\n",
    "begin = time.time()\n",
    "w_prop = eps\n",
    "w_prop = w_prop/np.sum(w_prop)\n",
    "L_prop = np.max(w_prop/eps)\n",
    "N_prop = np.random.laplace(0,L_prop,trials)\n",
    "end = time.time()\n",
    "print('Done Prop in ',end-begin,' seconds')\n",
    "\n",
    "\n",
    "### UNI ###\n",
    "begin = time.time()\n",
    "eps1 = np.min(eps)\n",
    "w_uni = np.ones(n)/n\n",
    "L_uni = np.max(1/eps)/n\n",
    "N_uni = np.random.laplace(0,L_uni,trials)\n",
    "end = time.time()\n",
    "print('Done UNI in ',end-begin,' seconds')\n",
    "\n",
    "\n",
    "### SM ###\n",
    "begin = time.time()\n",
    "t = np.max(eps)\n",
    "sm_bern_matrix = np.random.binomial(1,(np.exp(eps)-1)/(np.exp(t)-1), (trials,n))\n",
    "N_sm = np.random.laplace(0,1/(t*np.sum(sm_bern_matrix, axis=1)),size = trials)\n",
    "end = time.time()\n",
    "print('Done SM in ',end-begin,' seconds')\n",
    "\n",
    "\n",
    "### LDP ###\n",
    "begin = time.time()\n",
    "w_ldp = w_hpmcp\n",
    "ldp_data_matrix = LDP(eps, x, trials)\n",
    "end = time.time()\n",
    "print('Done LDP in ',end-begin,' seconds')\n",
    "\n",
    "### HPM-CE ###\n",
    "begin = time.time()\n",
    "w_hpmce, result = solve_hetdp_uncor(eps, np.e, 1, cp.ECOS)\n",
    "L_hpmce = np.max(w_hpmce/eps)\n",
    "N_hpmce = np.random.laplace(0,L_hpmce,trials)\n",
    "end = time.time()\n",
    "print('Done HPM-CE in ',end-begin,' seconds')"
   ]
  },
  {
   "cell_type": "code",
   "execution_count": 30,
   "id": "dcd2b951",
   "metadata": {},
   "outputs": [],
   "source": [
    "errors_hpmcp = get_error_vector(x@w_hpmcp + N_hpmcp.transpose(),mean)\n",
    "errors_hpfa = get_error_vector(x@w_hpfa + N_hpfa.transpose(),mean)\n",
    "errors_prop = get_error_vector(x@w_prop + N_prop.transpose(),mean)\n",
    "errors_uni = get_error_vector(x@w_uni + N_uni.transpose(),mean)\n",
    "errors_ldp = get_error_vector(ldp_data_matrix@w_ldp,mean)\n",
    "est_sm = get_error_vector((x@sm_bern_matrix.transpose()/np.sum(sm_bern_matrix,axis=1) + N_sm).transpose(),mean)\n",
    "errors_hpmce = get_error_vector(x@w_hpmce + N_hpmce.transpose(),mean)"
   ]
  },
  {
   "cell_type": "code",
   "execution_count": 31,
   "id": "11f255db",
   "metadata": {},
   "outputs": [],
   "source": [
    "params = {'text.usetex' : True,\n",
    "          'font.size' : 11,\n",
    "\t\t  'legend.fontsize': 9,\n",
    "          'legend.handlelength': 1.5,\n",
    "          }\n",
    "plt.rcParams.update(params) \n",
    "\n",
    "min_range = min(min(errors_hpfa),min(errors_hpmcp), min(errors_uni) , min(errors_ldp), min(errors_prop))\n",
    "max_range = max(max(errors_hpfa),max(errors_hpmcp), max(errors_uni) , max(errors_ldp), max(errors_prop))"
   ]
  },
  {
   "cell_type": "code",
   "execution_count": 32,
   "id": "b8730a05",
   "metadata": {},
   "outputs": [
    {
     "data": {
      "image/png": "[encoded data removed]",
      "text/plain": [
       "<Figure size 432x288 with 1 Axes>"
      ]
     },
     "metadata": {
      "needs_background": "light"
     },
     "output_type": "display_data"
    }
   ],
   "source": [
    "plt.xscale('log')\n",
    "\n",
    "plt.plot(np.sort(errors_hpmcp), np.linspace(0, 1, len(errors_hpmcp), endpoint=False), alpha = 1,color='blue')\n",
    "plt.plot(np.sort(errors_hpfa), np.linspace(0, 1, len(errors_hpfa), endpoint=False), alpha = 1,color='orange')\n",
    "plt.plot(np.sort(errors_ldp), np.linspace(0, 1, len(errors_ldp), endpoint=False), alpha = 1,color='black')\n",
    "plt.plot(np.sort(errors_uni), np.linspace(0, 1, len(errors_uni), endpoint=False), alpha = 1,color='green')\n",
    "plt.plot(np.sort(est_sm), np.linspace(0, 1, len(est_sm), endpoint=False), alpha = 1,color='red')\n",
    "plt.plot(np.sort(errors_prop), np.linspace(0, 1, len(errors_prop), endpoint=False), alpha = 1,color='violet')\n",
    "\n",
    "plt.ylim(0,1)\n",
    "plt.xlim(min_range, max_range*2)\n",
    "\n",
    "plt.axvline(x = np.quantile(errors_hpmcp,0.95), color = 'blue', linestyle = '--', label=r'HPM-CP',)\n",
    "plt.axvline(x = np.quantile(errors_hpfa,0.95), color = 'orange', linestyle = '--', label='HPM-A')\n",
    "plt.axvline(x = np.quantile(errors_ldp,0.95), color = 'black', linestyle = '--', label='LDP')\n",
    "plt.axvline(x = np.quantile(errors_uni,0.95), color = 'green', linestyle = '--', label='UNI')\n",
    "plt.axvline(x = np.quantile(est_sm,0.95), color = 'red', linestyle = '--', label='SM')\n",
    "plt.axvline(x = np.quantile(errors_prop,0.95), color = 'violet', linestyle = '--', label='Prop')\n",
    "\n",
    "\n",
    "plt.xlabel('Error')\n",
    "plt.ylabel('Cumulative Distribution')\n",
    "\n",
    "plt.legend(loc='upper left')\n",
    "plt.savefig(\"Mean-UC.pdf\", \n",
    "            dpi=1000, \n",
    "            bbox_inches='tight', \n",
    "            )\n",
    "plt.show()"
   ]
  },
  {
   "cell_type": "code",
   "execution_count": 33,
   "id": "a6091e55",
   "metadata": {},
   "outputs": [
    {
     "name": "stdout",
     "output_type": "stream",
     "text": [
      "0.0642494066493151 0.004838815092663217 0.06581920900530491 1.0 0.004844978819755256 0.004803662512289334\n",
      "1.8372224349364823e-05 2.1789462958482898e-05 0.0009739157371854958 0.8323620985404736 2.2684891171485783e-05 2.23406498451467e-05\n"
     ]
    }
   ],
   "source": [
    "print(np.quantile(errors_hpmcp,0.95), np.quantile(errors_hpfa,0.95), np.quantile(errors_uni,0.95), np.quantile(errors_ldp,0.95), np.quantile(est_sm,0.95), np.quantile(errors_prop,0.95))\n",
    "print(np.mean(np.square(errors_hpmce)), np.mean(np.square(errors_hpfa)), np.mean(np.square(errors_uni)), np.mean(np.square(errors_ldp)), np.mean(np.square(est_sm)), np.mean(np.square(errors_prop)))\n"
   ]
  },
  {
   "cell_type": "code",
   "execution_count": 34,
   "id": "72571077",
   "metadata": {},
   "outputs": [],
   "source": [
    "## Saving performance:\n",
    "errors_hpfc_UC = errors_hpmcp\n",
    "errors_hpfa_UC = errors_hpfa\n",
    "errors_ldp_UC = errors_ldp\n",
    "errors_uni_UC = errors_uni\n",
    "est_sm_UC = est_sm\n",
    "errors_prop_UC = errors_prop\n",
    "errors_hpmce_UC = errors_hpmce\n"
   ]
  },
  {
   "cell_type": "markdown",
   "id": "0fbd21a8",
   "metadata": {},
   "source": [
    "## Correlated Synthetic k = 20"
   ]
  },
  {
   "cell_type": "code",
   "execution_count": 43,
   "id": "01d3d357",
   "metadata": {},
   "outputs": [
    {
     "name": "stdout",
     "output_type": "stream",
     "text": [
      "[2029. 1632. 1253. 1117.  794.  683.  527.  410.  344.  276.  217.  179.\n",
      "  121.   88.   88.   82.   56.   49.   27.   28.]\n",
      "Mean is  0.6287100174645548\n"
     ]
    },
    {
     "name": "stderr",
     "output_type": "stream",
     "text": [
      "/opt/anaconda3/lib/python3.8/site-packages/cvxpy/problems/problem.py:1296: UserWarning: Solution may be inaccurate. Try another solver, adjusting the solver settings, or solve with verbose=True for more information.\n",
      "  warnings.warn(\n"
     ]
    },
    {
     "name": "stdout",
     "output_type": "stream",
     "text": [
      "Done HPM-CP in  1.261347770690918  seconds\n",
      "Done HPF-A in  0.0011129379272460938  seconds\n",
      "Done Prop in  0.0019271373748779297  seconds\n",
      "Done UNI in  0.0007040500640869141  seconds\n",
      "Done SM in  1.3695788383483887  seconds\n",
      "Done LDP in  1.7445909976959229  seconds\n",
      "Done HPF-CE in  1.4795269966125488  seconds\n"
     ]
    }
   ],
   "source": [
    "## Synthetic Dataset\n",
    "np.random.seed(1)\n",
    "beta = 0.05\n",
    "n = 10000\n",
    "k = 20\n",
    "\n",
    "\n",
    "Data = np.zeros((k,n))\n",
    "_, counts = gen_dataset(n,k,0.8)\n",
    "ct = 0 \n",
    "print(counts)\n",
    "for i in range(len(counts)):\n",
    "\tData[i,ct:ct+int(counts[i])] = 1\n",
    "\tct += int(counts[i])\n",
    "eps = np.zeros(n)\n",
    "ct = 0 \n",
    "for i in range(len(counts)):\n",
    "\teps[ct:ct+int(counts[i])] = np.exp(5+np.random.uniform(-i*0.5,-i*0.5+0.5,int(counts[i])))\n",
    "\tct += int(counts[i])\n",
    "\n",
    "\n",
    "pi_char = np.exp(np.random.uniform(-1,1,k))\n",
    "pi_char = pi_char/np.max(pi_char)\n",
    "\n",
    "x = (pi_char @ Data)\n",
    "mean = np.mean(x)\n",
    "trials = 5000\n",
    "k=1\n",
    "\n",
    "print('Mean is ',mean)\n",
    "\n",
    "### hpm-cp ###\n",
    "begin = time.time()\n",
    "w_hpmcp, result = solve_hetdp_cor(eps, k, beta, cp.ECOS)\n",
    "L_hpmcp = np.max(w_hpmcp/eps)\n",
    "N_hpmcp = np.random.laplace(0,L_hpmcp,trials)\n",
    "end = time.time()\n",
    "print('Done HPM-CP in ',end-begin,' seconds')\n",
    "\n",
    "\n",
    "### hpfa ###\n",
    "begin = time.time()\n",
    "w_hpfa = 1-np.exp(-eps)\n",
    "w_hpfa = w_hpfa/np.sum(w_hpfa)\n",
    "infty_norm = np.max(w_hpfa/eps)\n",
    "L_hpfa = infty_norm\n",
    "N_hpfa = np.random.laplace(0,L_hpfa,trials)\n",
    "end = time.time()\n",
    "print('Done HPF-A in ',end-begin,' seconds')\n",
    "\n",
    "\n",
    "### Prop ###\n",
    "begin = time.time()\n",
    "w_prop = eps\n",
    "w_prop = w_prop/np.sum(w_prop)\n",
    "L_prop = np.max(w_prop/eps)\n",
    "N_prop = np.random.laplace(0,L_prop,trials)\n",
    "end = time.time()\n",
    "print('Done Prop in ',end-begin,' seconds')\n",
    "\n",
    "\n",
    "### UNI ###\n",
    "begin = time.time()\n",
    "eps1 = np.min(eps)\n",
    "w_uni = np.ones(n)/n\n",
    "L_uni = np.max(1/eps)/n\n",
    "N_uni = np.random.laplace(0,L_uni,trials)\n",
    "end = time.time()\n",
    "print('Done UNI in ',end-begin,' seconds')\n",
    "\n",
    "\n",
    "### SM ###\n",
    "begin = time.time()\n",
    "t = np.max(eps)\n",
    "sm_bern_matrix = np.random.binomial(1,(np.exp(eps)-1)/(np.exp(t)-1), (trials,n))\n",
    "N_sm = np.random.laplace(0,1/(t*np.sum(sm_bern_matrix, axis=1)),size =trials)\n",
    "end = time.time()\n",
    "print('Done SM in ',end-begin,' seconds')\n",
    "\n",
    "\n",
    "### LDP ###\n",
    "begin = time.time()\n",
    "w_ldp = w_hpmcp\n",
    "ldp_data_matrix = LDP(eps, x, trials)\n",
    "end = time.time()\n",
    "print('Done LDP in ',end-begin,' seconds')\n",
    "\n",
    "\n",
    "begin = time.time()\n",
    "w_hpfce, result = solve_hetdp_cor(eps, np.e , 1, cp.ECOS)\n",
    "L_hpfce = np.max(w_hpfce/eps)\n",
    "N_hpfce = np.random.laplace(0,L_hpfce,trials)\n",
    "end = time.time()\n",
    "print('Done HPF-CE in ',end-begin,' seconds')\n"
   ]
  },
  {
   "cell_type": "code",
   "execution_count": 44,
   "id": "936c6848",
   "metadata": {},
   "outputs": [],
   "source": [
    "errors_hpfc = get_error_vector(x@w_hpmcp + N_hpmcp.transpose(),mean)\n",
    "errors_hpfa = get_error_vector(x@w_hpfa + N_hpfa.transpose(),mean)\n",
    "errors_prop = get_error_vector(x@w_prop + N_prop.transpose(),mean)\n",
    "errors_uni = get_error_vector(x@w_uni + N_uni.transpose(),mean)\n",
    "errors_ldp = get_error_vector(ldp_data_matrix@w_ldp,mean)\n",
    "errors_sm = get_error_vector((x@sm_bern_matrix.transpose()/np.sum(sm_bern_matrix,axis=1) + N_sm).transpose(),mean)\n",
    "errors_hpfce = get_error_vector(x@w_hpfce + N_hpfce.transpose(),mean)"
   ]
  },
  {
   "cell_type": "code",
   "execution_count": 45,
   "id": "1658fb44",
   "metadata": {},
   "outputs": [],
   "source": [
    "params = {'text.usetex' : True,\n",
    "          'font.size' : 11,\n",
    "\t\t  'legend.fontsize': 9,\n",
    "          'legend.handlelength': 1.5,\n",
    "          }\n",
    "plt.rcParams.update(params) \n",
    "\n",
    "min_range = min(min(errors_hpfa),min(errors_hpfc), min(errors_uni) , min(errors_ldp), min(errors_prop))\n",
    "max_range = max(max(errors_hpfa),max(errors_hpfc), max(errors_uni) , max(errors_ldp), max(errors_prop))"
   ]
  },
  {
   "cell_type": "code",
   "execution_count": 46,
   "id": "848306dc",
   "metadata": {},
   "outputs": [
    {
     "data": {
      "image/png": "[encoded data removed]",
      "text/plain": [
       "<Figure size 432x288 with 1 Axes>"
      ]
     },
     "metadata": {
      "needs_background": "light"
     },
     "output_type": "display_data"
    }
   ],
   "source": [
    "plt.xscale('log')\n",
    "\n",
    "plt.plot(np.sort(errors_hpfc), np.linspace(0, 1, len(errors_hpfc), endpoint=False), alpha = 1,color='blue')\n",
    "plt.plot(np.sort(errors_hpfa), np.linspace(0, 1, len(errors_hpfa), endpoint=False), alpha = 1,color='orange')\n",
    "plt.plot(np.sort(errors_ldp), np.linspace(0, 1, len(errors_ldp), endpoint=False), alpha = 1,color='black')\n",
    "plt.plot(np.sort(errors_uni), np.linspace(0, 1, len(errors_uni), endpoint=False), alpha = 1,color='green')\n",
    "plt.plot(np.sort(est_sm), np.linspace(0, 1, len(est_sm), endpoint=False), alpha = 1,color='red')\n",
    "plt.plot(np.sort(errors_prop), np.linspace(0, 1, len(errors_prop), endpoint=False), alpha = 1,color='violet')\n",
    "\n",
    "\n",
    "plt.ylim(0,1)\n",
    "plt.xlim(min_range, 0.3)\n",
    "\n",
    "plt.axvline(x = np.quantile(errors_hpfc,0.95), color = 'blue', linestyle = '--', label='HPM-CP',)\n",
    "plt.axvline(x = np.quantile(errors_hpfa,0.95), color = 'orange', linestyle = '--', label='HPM-A')\n",
    "plt.axvline(x = np.quantile(errors_ldp,0.95), color = 'black', linestyle = '--', label='LDP')\n",
    "plt.axvline(x = np.quantile(errors_uni,0.95), color = 'green', linestyle = '--', label='UNI')\n",
    "plt.axvline(x = np.quantile(errors_sm,0.95), color = 'red', linestyle = '--', label='SM')\n",
    "plt.axvline(x = np.quantile(errors_prop,0.95), color = 'violet', linestyle = '--', label='Prop')\n",
    "\n",
    "\n",
    "plt.xlabel('Error')\n",
    "plt.ylabel('Cumulative Distribution')\n",
    "\n",
    "plt.legend(loc='upper left')\n",
    "plt.savefig(\"Mean-CorrSyn2.pdf\", \n",
    "            dpi=1000, \n",
    "            bbox_inches='tight', \n",
    "            )\n",
    "plt.show()"
   ]
  },
  {
   "cell_type": "code",
   "execution_count": 47,
   "id": "e28a5828",
   "metadata": {},
   "outputs": [
    {
     "name": "stdout",
     "output_type": "stream",
     "text": [
      "0.007850711299104791 0.008585626937171558 0.008833198606203652 0.026805671118838442 0.051607144285564135 0.08508996628060134\n",
      "3.5285199556761515e-05 6.951014862562402e-05 0.0001605310725804631 0.0019036234203458993 2.2684891171485783e-05 7.797281716817105e-05\n"
     ]
    }
   ],
   "source": [
    "print(np.quantile(errors_hpfc,0.95), np.quantile(errors_hpfa,0.95), np.quantile(errors_prop,0.95), np.quantile(errors_uni,0.95), np.quantile(errors_sm,0.95), np.quantile(errors_ldp,0.95) )\n",
    "print(np.mean(np.square(errors_hpfce)), np.mean(np.square(errors_hpfa)), np.mean(np.square(errors_uni)), np.mean(np.square(errors_ldp)), np.mean(np.square(est_sm)), np.mean(np.square(errors_prop)))"
   ]
  },
  {
   "cell_type": "code",
   "execution_count": 44,
   "id": "776e5620",
   "metadata": {},
   "outputs": [],
   "source": [
    "\n",
    "### Saving results:\n",
    "errors_hpfc_syn2 = errors_hpfc\n",
    "errors_hpfa_syn2 = errors_hpfa\n",
    "errors_ldp_syn2 = errors_ldp\n",
    "errors_uni_syn2 = errors_uni\n",
    "errors_sm_syn2 = errors_sm\n",
    "errors_prop_syn2 = errors_prop\n",
    "\n"
   ]
  },
  {
   "cell_type": "markdown",
   "id": "b35c8211",
   "metadata": {},
   "source": [
    "### Uncor Syn k=20"
   ]
  },
  {
   "cell_type": "code",
   "execution_count": 7,
   "id": "4add5637",
   "metadata": {},
   "outputs": [
    {
     "name": "stdout",
     "output_type": "stream",
     "text": [
      "[2029. 1632. 1253. 1117.  794.  683.  527.  410.  344.  276.  217.  179.\n",
      "  121.   88.   88.   82.   56.   49.   27.   28.]\n",
      "Mean is  0.6287100174645548\n",
      "Done HPM-UP in  2.6720499992370605  seconds\n",
      "Done HPF-A in  0.0015461444854736328  seconds\n",
      "Done Prop in  0.0008249282836914062  seconds\n",
      "Done UNI in  0.0010139942169189453  seconds\n",
      "Done HPF-UE in  2.1381969451904297  seconds\n",
      "Done LDP in  0.0001888275146484375  seconds\n",
      "Done SM in  1.6588718891143799  seconds\n"
     ]
    }
   ],
   "source": [
    "## Synthetic Dataset\n",
    "np.random.seed(1)\n",
    "beta = 0.05\n",
    "n = 10000\n",
    "k = 20\n",
    "\n",
    "\n",
    "Data = np.zeros((k,n))\n",
    "_, counts = gen_dataset(n,k,0.8)\n",
    "ct = 0 \n",
    "print(counts)\n",
    "for i in range(len(counts)):\n",
    "\tData[i,ct:ct+int(counts[i])] = 1\n",
    "\tct += int(counts[i])\n",
    "eps = np.zeros(n)\n",
    "ct = 0 \n",
    "for i in range(len(counts)):\n",
    "\teps[ct:ct+int(counts[i])] = np.exp(5+np.random.uniform(-i*0.5,-i*0.5+0.5,int(counts[i])))\n",
    "\tct += int(counts[i])\n",
    "\n",
    "\n",
    "pi_char = np.exp(np.random.uniform(-1,1,k))\n",
    "pi_char = pi_char/np.max(pi_char)\n",
    "\n",
    "x = (pi_char @ Data)\n",
    "mean = np.mean(x)\n",
    "trials = 5000\n",
    "k=1\n",
    "\n",
    "print('Mean is ',mean)\n",
    "\n",
    "\n",
    "\n",
    "\n",
    "### hpfu ###\n",
    "begin = time.time()\n",
    "w_hpmup, result = solve_hetdp_uncor(eps, k, beta, cp.ECOS)\n",
    "L_hpfu = np.max(w_hpmup/eps)\n",
    "N_hpfu = np.random.laplace(0,L_hpfu,trials)\n",
    "end = time.time()\n",
    "print('Done HPM-UP in ',end-begin,' seconds')\n",
    "\n",
    "\n",
    "### hpfa ###\n",
    "begin = time.time()\n",
    "w_hpfa = 1-np.exp(-eps)\n",
    "w_hpfa = w_hpfa/np.sum(w_hpfa)\n",
    "infty_norm = np.max(w_hpfa/eps)\n",
    "L_hpfa = infty_norm\n",
    "N_hpfa = np.random.laplace(0,L_hpfa,trials)\n",
    "end = time.time()\n",
    "print('Done HPF-A in ',end-begin,' seconds')\n",
    "\n",
    "\n",
    "### Prop ###\n",
    "begin = time.time()\n",
    "w_prop = eps\n",
    "w_prop = w_prop/np.sum(w_prop)\n",
    "L_prop = np.max(w_prop/eps)\n",
    "N_prop = np.random.laplace(0,L_prop,trials)\n",
    "end = time.time()\n",
    "print('Done Prop in ',end-begin,' seconds')\n",
    "\n",
    "\n",
    "### UNI ###\n",
    "begin = time.time()\n",
    "eps1 = np.min(eps)\n",
    "w_uni = np.ones(n)/n\n",
    "L_uni = np.max(1/eps)/n\n",
    "N_uni = np.random.laplace(0,L_uni,trials)\n",
    "end = time.time()\n",
    "print('Done UNI in ',end-begin,' seconds')\n",
    "\n",
    "\n",
    "### hpfue ###\n",
    "begin = time.time()\n",
    "w_hpmue, result = solve_hetdp_uncor(eps, np.e , 1, cp.ECOS)\n",
    "L_hpmue = np.max(w_hpmue/eps)\n",
    "N_hpmue = np.random.laplace(0,L_hpmue,trials)\n",
    "end = time.time()\n",
    "print('Done HPF-UE in ',end-begin,' seconds')\n",
    "\n",
    "\n",
    "### LDP ###\n",
    "begin = time.time()\n",
    "w_ldp = w_hpmup\n",
    "end = time.time()\n",
    "print('Done LDP in ',end-begin,' seconds')\n",
    "\n",
    "\n",
    "### SM ###\n",
    "begin = time.time()\n",
    "t = np.max(eps)\n",
    "sm_bern_matrix = np.random.binomial(1,(np.exp(eps)-1)/(np.exp(t)-1), (trials,n))\n",
    "N_sm = np.random.laplace(0,1/(t*np.sum(sm_bern_matrix, axis=1)),size = trials)\n",
    "end = time.time()\n",
    "print('Done SM in ',end-begin,' seconds')\n"
   ]
  },
  {
   "cell_type": "code",
   "execution_count": 8,
   "id": "a8c45f5f",
   "metadata": {},
   "outputs": [
    {
     "name": "stderr",
     "output_type": "stream",
     "text": [
      "100%|██████████| 5000/5000 [40:35<00:00,  2.05it/s]\n"
     ]
    }
   ],
   "source": [
    "errors_hpfu = np.zeros(trials)\n",
    "errors_hpfa = np.zeros(trials)\n",
    "errors_prop = np.zeros(trials)\n",
    "errors_uni = np.zeros(trials)\n",
    "errors_hpfue = np.zeros(trials)\n",
    "errors_ldp = np.zeros(trials)\n",
    "errors_sm = np.zeros(trials)\n",
    "\n",
    "\n",
    "for _ in tqdm(range(trials)):\n",
    "\tnp.random.shuffle(x)\n",
    "\t\n",
    "\n",
    "\test_hpfu= x@w_hpmup + N_hpfu[_]\n",
    "\test_hpfa = x@w_hpfa + N_hpfa[_]\n",
    "\test_uni = x@w_uni + N_uni[_]\n",
    "\test_prop = x@w_prop + N_prop[_]\n",
    "\test_hpfue = x@w_hpmue + N_hpmue[_]\n",
    "\test_ldp = LDP(eps, x, 1)[0]@w_ldp\n",
    "\test_sm = (x@sm_bern_matrix.transpose()/np.sum(sm_bern_matrix,axis=1) + N_sm)[_]\n",
    "\n",
    "\terrors_hpfu[_]= get_error(est_hpfu,mean)\n",
    "\terrors_hpfa[_]= get_error(est_hpfa,mean)\n",
    "\terrors_uni[_]= get_error(est_uni,mean)\n",
    "\terrors_prop[_]= get_error(est_prop,mean)\n",
    "\terrors_hpfue[_]= get_error(est_hpfue,mean)\n",
    "\terrors_ldp[_]= get_error(est_ldp,mean)\n",
    "\terrors_sm[_]= get_error(est_sm,mean)"
   ]
  },
  {
   "cell_type": "code",
   "execution_count": 51,
   "id": "c9cc1922",
   "metadata": {},
   "outputs": [],
   "source": [
    "params = {'text.usetex' : True,\n",
    "          'font.size' : 11,\n",
    "\t\t  'legend.fontsize': 9,\n",
    "          'legend.handlelength': 1.5,\n",
    "          }\n",
    "plt.rcParams.update(params) \n",
    "\n",
    "min_range = min(min(errors_hpfa),min(errors_hpfu), min(errors_uni) , min(errors_prop))\n",
    "max_range = max(max(errors_hpfa),max(errors_hpfu), max(errors_uni) , max(errors_prop))"
   ]
  },
  {
   "cell_type": "code",
   "execution_count": 52,
   "id": "9ff0f21f",
   "metadata": {},
   "outputs": [
    {
     "data": {
      "image/png": "[encoded data removed]",
      "text/plain": [
       "<Figure size 432x288 with 1 Axes>"
      ]
     },
     "metadata": {
      "needs_background": "light"
     },
     "output_type": "display_data"
    }
   ],
   "source": [
    "plt.xscale('log')\n",
    "\n",
    "plt.plot(np.sort(errors_hpfu), np.linspace(0, 1, len(errors_hpfu), endpoint=False), alpha = 1,color='blue')\n",
    "plt.plot(np.sort(errors_hpfa), np.linspace(0, 1, len(errors_hpfa), endpoint=False), alpha = 1,color='orange')\n",
    "plt.plot(np.sort(errors_uni), np.linspace(0, 1, len(errors_uni), endpoint=False), alpha = 1,color='green')\n",
    "plt.plot(np.sort(errors_prop), np.linspace(0, 1, len(errors_prop), endpoint=False), alpha = 1,color='violet')\n",
    "\n",
    "plt.ylim(0,1)\n",
    "plt.xlim(min_range, max_range)\n",
    "\n",
    "plt.axvline(x = np.quantile(errors_hpfu,0.95), color = 'blue', linestyle = '--', label='HPM-UP',)\n",
    "plt.axvline(x = np.quantile(errors_hpfa,0.95), color = 'orange', linestyle = '--', label='HPM-A')\n",
    "plt.axvline(x = np.quantile(errors_uni,0.95), color = 'green', linestyle = '--', label='UNI')\n",
    "plt.axvline(x = np.quantile(errors_prop,0.95), color = 'violet', linestyle = '--', label='Prop')\n",
    "\n",
    "\n",
    "plt.xlabel('Error')\n",
    "plt.ylabel('Cumulative Distribution')\n",
    "\n",
    "plt.legend(loc='upper left')\n",
    "plt.savefig(\"Mean-UncorSyn2.pdf\", \n",
    "            dpi=1000, \n",
    "            bbox_inches='tight', \n",
    "            )\n",
    "plt.show()"
   ]
  },
  {
   "cell_type": "code",
   "execution_count": 9,
   "id": "9f1d3430",
   "metadata": {},
   "outputs": [
    {
     "name": "stdout",
     "output_type": "stream",
     "text": [
      "0.0076874031133905354 0.001014849485146635 0.004336836895818475 0.026805671118838244 0.08627373774642576 0.10956808167409222\n",
      "3.526183871564627e-05 2.680786051111403e-07 0.00016053107258046315 4.841537944626555e-06 0.0018877073889268627 0.0032076514511730652\n"
     ]
    }
   ],
   "source": [
    "print(np.quantile(errors_hpfu,0.95), np.quantile(errors_hpfa,0.95), np.quantile(errors_prop,0.95), np.quantile(errors_uni,0.95), np.quantile(errors_ldp,0.95), np.quantile(errors_sm,0.95) )\n",
    "print(np.mean(np.square(errors_hpfue)), np.mean(np.square(errors_hpfa)), np.mean(np.square(errors_uni)), np.mean(np.square(errors_prop)), np.mean(np.square(errors_ldp)), np.mean(np.square(errors_sm)))"
   ]
  },
  {
   "cell_type": "markdown",
   "id": "de981c0a",
   "metadata": {},
   "source": [
    "# Mean Estimation"
   ]
  },
  {
   "cell_type": "code",
   "execution_count": 61,
   "id": "002aea0c",
   "metadata": {},
   "outputs": [],
   "source": [
    "def solve_ldp_cor(eps, k, beta):\n",
    "\tn = len(eps)\n",
    "\tones = np.ones(n)\n",
    "\tcoefs = n+((np.log(k/beta))/np.square(eps))\n",
    "\n",
    "\tw = 1/coefs\n",
    "\tw = w/np.sum(w)\n",
    "\treturn w, 1\n",
    "\n",
    "def solve_ldp_uncor(eps, k, beta):\n",
    "\tn = len(eps)\n",
    "\tones = np.ones(n)\n",
    "\tcoefs = 1+(1/np.square(eps))\n",
    "\n",
    "\tw = 1/coefs\n",
    "\tw = w/np.sum(w)\n",
    "\treturn w, 1"
   ]
  },
  {
   "cell_type": "markdown",
   "id": "2531aa6d",
   "metadata": {},
   "source": [
    "## UC Salary, C, P"
   ]
  },
  {
   "cell_type": "code",
   "execution_count": 66,
   "id": "273a7a55",
   "metadata": {},
   "outputs": [
    {
     "name": "stdout",
     "output_type": "stream",
     "text": [
      "1 5770000\n",
      "324043\n",
      "Mean is  64606.93504\n"
     ]
    },
    {
     "name": "stderr",
     "output_type": "stream",
     "text": [
      "/opt/anaconda3/lib/python3.8/site-packages/cvxpy/problems/problem.py:1296: UserWarning: Solution may be inaccurate. Try another solver, adjusting the solver settings, or solve with verbose=True for more information.\n",
      "  warnings.warn(\n"
     ]
    },
    {
     "name": "stdout",
     "output_type": "stream",
     "text": [
      "Done HPM-CP in  10.57554006576538  seconds\n",
      "Done HPF-A in  0.007319927215576172  seconds\n",
      "Done Prop in  0.003594636917114258  seconds\n",
      "Done UNI in  0.003741025924682617  seconds\n",
      "Done SM in  9.865974187850952  seconds\n"
     ]
    }
   ],
   "source": [
    "## Real Dataset\n",
    "np.random.seed(1)\n",
    "df =  pd.read_csv('UCData.csv')\n",
    "x = np.array(df['TotalWages'])\n",
    "print(np.min(x),np.max(x))\n",
    "print(len(x))\n",
    "x = np.random.choice(x,50000,replace=False) #sub-sample dataset\n",
    "\n",
    "def get_bin(x):\n",
    "\tif x < 1000:\n",
    "\t\treturn 0\n",
    "\telif x < 5000:\n",
    "\t\treturn 1\n",
    "\telif x < 15000:\n",
    "\t\treturn 2\n",
    "\telif x < 30000:\n",
    "\t\treturn 3\n",
    "\telif x < 60000:\n",
    "\t\treturn 4\n",
    "\telif x < 120000:\n",
    "\t\treturn 5\n",
    "\telif x < 240000:\n",
    "\t\treturn 6\n",
    "\telif x < 480000:\n",
    "\t\treturn 7\n",
    "\telif x < 960000:\n",
    "\t\treturn 8\n",
    "\telif x < 2000000:\n",
    "\t\treturn 9\n",
    "\telif x < 4000000:\n",
    "\t\treturn 10\n",
    "\telse:\n",
    "\t\treturn 11\n",
    "\n",
    "np.random.seed(1)\n",
    "eps = np.zeros(len(x))\n",
    "ct = 0 \n",
    "for i in range(len(x)):\n",
    "\teps[i] = np.exp(-abs(get_bin(x[i])-2.5) + np.random.uniform(-3,3))\n",
    "\n",
    "### Correlated\n",
    "np.random.seed(1)\n",
    "beta = 0.05\n",
    "n = len(x)\n",
    "k = 1\n",
    "trials = 5000\n",
    "scale = 10000000\n",
    "\n",
    "Data = x\n",
    "mean = np.sum(Data)/n\n",
    "print('Mean is ',mean)\n",
    "\n",
    "### hpfc ###\n",
    "begin = time.time()\n",
    "w_hpfc, result = solve_hetdp_cor(eps, k, beta, cp.ECOS)\n",
    "L_hpfc = np.max(scale*w_hpfc/eps)\n",
    "N_hpfc = np.random.laplace(0,L_hpfc,trials)\n",
    "end = time.time()\n",
    "print('Done HPM-CP in ',end-begin,' seconds')\n",
    "\n",
    "\n",
    "### hpfa ###\n",
    "begin = time.time()\n",
    "w_hpfa = 1-np.exp(-eps)\n",
    "w_hpfa = w_hpfa/np.sum(w_hpfa)\n",
    "infty_norm = np.max(scale*w_hpfa/eps)\n",
    "L_hpfa = infty_norm\n",
    "N_hpfa = np.random.laplace(0,L_hpfa,trials)\n",
    "end = time.time()\n",
    "print('Done HPF-A in ',end-begin,' seconds')\n",
    "\n",
    "\n",
    "### Prop ###\n",
    "begin = time.time()\n",
    "w_prop = eps\n",
    "w_prop = w_prop/np.sum(w_prop)\n",
    "L_prop = scale*np.max(w_prop/eps)\n",
    "N_prop = np.random.laplace(0,L_prop,trials)\n",
    "end = time.time()\n",
    "print('Done Prop in ',end-begin,' seconds')\n",
    "\n",
    "\n",
    "### UNI ###\n",
    "begin = time.time()\n",
    "eps1 = np.min(eps)\n",
    "w_uni = np.ones(n)/n\n",
    "L_uni = scale*np.max(1/eps)/n\n",
    "N_uni = np.random.laplace(0,L_uni,trials)\n",
    "end = time.time()\n",
    "print('Done UNI in ',end-begin,' seconds')\n",
    "\n",
    "\n",
    "### SM ###\n",
    "begin = time.time()\n",
    "t = np.max(eps)\n",
    "sm_bern_matrix = np.random.binomial(1,(np.exp(eps)-1)/(np.exp(t)-1), (trials,n))\n",
    "N_sm = np.random.laplace(0,scale/(t*np.sum(sm_bern_matrix, axis=1)),size = trials)\n",
    "end = time.time()\n",
    "print('Done SM in ',end-begin,' seconds')\n",
    "\n",
    "\n",
    "### LDP ###\n",
    "begin = time.time()\n",
    "w_ldp, result = solve_ldp_cor(eps, k, beta)\n",
    "ldp_data_matrix = kRAPPOR_cor(eps, Data, trials)\n",
    "end = time.time()\n",
    "print('Done LDP in ',end-begin,' seconds')"
   ]
  },
  {
   "cell_type": "code",
   "execution_count": 65,
   "id": "83d566d3",
   "metadata": {},
   "outputs": [
    {
     "name": "stdout",
     "output_type": "stream",
     "text": [
      "[-0.41578297  1.40403196 -2.39278309 ...  1.81251171 -2.74661975\n",
      "  2.27919947]\n"
     ]
    }
   ],
   "source": [
    "print(eps)"
   ]
  },
  {
   "cell_type": "code",
   "execution_count": null,
   "id": "5ee39328",
   "metadata": {},
   "outputs": [],
   "source": []
  }
 ],
 "metadata": {
  "kernelspec": {
   "display_name": "Python 3",
   "language": "python",
   "name": "python3"
  },
  "language_info": {
   "codemirror_mode": {
    "name": "ipython",
    "version": 3
   },
   "file_extension": ".py",
   "mimetype": "text/x-python",
   "name": "python",
   "nbconvert_exporter": "python",
   "pygments_lexer": "ipython3",
   "version": "3.8.8"
  }
 },
 "nbformat": 4,
 "nbformat_minor": 5
}
