{
 "cells": [
  {
   "cell_type": "code",
   "execution_count": 27,
   "id": "30d9e04c",
   "metadata": {},
   "outputs": [],
   "source": [
    "import numpy as np\n",
    "import matplotlib.pyplot as plt\n",
    "import pandas as pd\n",
    "import cvxpy as cp\n",
    "import time\n",
    "from tqdm import tqdm"
   ]
  },
  {
   "cell_type": "code",
   "execution_count": 28,
   "id": "0c780d75",
   "metadata": {},
   "outputs": [],
   "source": [
    "def solve_hetdp_cor(eps, k, beta, num_solver):\n",
    "\tn = len(eps)\n",
    "\tones = np.ones(n)\n",
    "\n",
    "\tw = cp.Variable(n)\n",
    "\tobjective2 = cp.Minimize(cp.power(cp.norm(w/eps,'inf'),2)*((np.log(k/beta))**2) + cp.power(cp.norm(w - (ones/n),1),2))\n",
    "\tconstraints2 = [0 <= w, w@ones == 1]\n",
    "\tprob2 = cp.Problem(objective2, constraints2)\n",
    "\tresult2 = prob2.solve(solver = num_solver)\n",
    "\n",
    "\treturn w.value, np.sqrt(result2)\n",
    "\n",
    "def solve_hetdp_cor_approx(eps, k, beta):\n",
    "\tEPS = eps.copy()\n",
    "\tindices = np.argsort(EPS)\n",
    "\tEPS_SORT = np.sort(EPS)\n",
    "\tr = []\n",
    "\tr.append(EPS_SORT[0])\n",
    "\tL1 = EPS_SORT[0]\n",
    "\tL2 = np.square(EPS_SORT[0])\n",
    "\tcount = 1\n",
    "\tfac = ((np.log(k/beta))**2)/len(EPS_SORT)\n",
    "\twhile count < len(EPS_SORT):\n",
    "\t\trt = min(EPS_SORT[count],(L2 + fac)/L1)\n",
    "\t\tL1 = L1 + rt\n",
    "\t\tL2 = L2 + np.square(rt)\n",
    "\t\tr.append(rt)\n",
    "\t\tcount += 1\n",
    "\t\t\n",
    "\tw_r = np.zeros(len(EPS_SORT))\n",
    "\tfor i in range(len(r)):\n",
    "\t\tw_r[indices[i]] = r[i]/L1\n",
    "\treturn w_r, 1\n",
    "\n",
    "def solve_hetdp_uncor(eps, k, beta, num_solver):\n",
    "\tn = len(eps)\n",
    "\tones = np.ones(n)\n",
    "\n",
    "\tw = cp.Variable(n)\n",
    "\tobjective1 = cp.Minimize(cp.power(cp.norm(w/eps,'inf'),2)*((np.log(k/beta))**2) + cp.power(cp.norm(w - (ones/n),1),2))\n",
    "\tconstraints1 = [0 <= w, w@ones == 1]\n",
    "\tprob1 = cp.Problem(objective1, constraints1)\n",
    "\tresult1 = prob1.solve(solver = num_solver)\n",
    "\n",
    "\tw2 = cp.Variable(n)\n",
    "\tobjective2 = cp.Minimize(cp.power(cp.norm(w2/eps,'inf'),2)*((np.log(k/beta))**2) + cp.power(cp.norm(w2,2),2)*np.log(k/beta))\n",
    "\tconstraints2 = [0 <= w2, w2@ones == 1]\n",
    "\tprob2 = cp.Problem(objective2, constraints2)\n",
    "\tresult2 = prob2.solve(solver = num_solver)\n",
    "\n",
    "\tif result1 < result2:\n",
    "\t\treturn w.value, np.sqrt(result1)\n",
    "\telse:\n",
    "\t\treturn w2.value, np.sqrt(result2)\n",
    "\n",
    "def solve_hetdp_uncor_approx(eps, k, beta):\n",
    "\t## first try \n",
    "\tn = len(eps)\n",
    "\tEPS = eps.copy()\n",
    "\tindices = np.argsort(EPS)\n",
    "\tEPS_SORT = np.sort(EPS)\n",
    "\tr = []\n",
    "\tr.append(EPS_SORT[0])\n",
    "\tL1 = EPS_SORT[0]\n",
    "\tL2 = np.square(EPS_SORT[0])\n",
    "\tcount = 1\n",
    "\tfac = ((np.log(k/beta))**2)/n\n",
    "\twhile count < len(EPS_SORT):\n",
    "\t\trt = min(EPS_SORT[count],(L2 + fac)/L1)\n",
    "\t\tL1 = L1 + rt\n",
    "\t\tL2 = L2 + np.square(rt)\n",
    "\t\tr.append(rt)\n",
    "\t\tcount += 1\n",
    "\tvalue = (n*L2)/(L1**2) - 1 + (np.log(k/beta)*np.log(k/beta))/(L1*L1)\n",
    "\tw_r = np.zeros(len(EPS_SORT))\n",
    "\tfor i in range(len(r)):\n",
    "\t\tw_r[indices[i]] = r[i]/L1\n",
    "\n",
    "\t## second try\n",
    "\tr = []\n",
    "\tr.append(EPS_SORT[0])\n",
    "\tL1 = EPS_SORT[0]\n",
    "\tL2 = np.square(EPS_SORT[0])\n",
    "\tcount = 1\n",
    "\tfac = np.log(k/beta)\n",
    "\twhile count < len(EPS_SORT):\n",
    "\t\trt = min(EPS_SORT[count],(L2 + fac)/L1)\n",
    "\t\tL1 = L1 + rt\n",
    "\t\tL2 = L2 + np.square(rt)\n",
    "\t\tr.append(rt)\n",
    "\t\tcount += 1\n",
    "\tvalue2 = np.log(k/beta)*L2/(L1**2) + (np.log(k/beta)*np.log(k/beta))/(L1*L1)\n",
    "\tw_r2 = np.zeros(len(EPS_SORT))\n",
    "\tfor i in range(len(r)):\n",
    "\t\tw_r2[indices[i]] = r[i]/L1\n",
    "\n",
    "\t#return w_r2, 'log'\n",
    "\tif value2 < value:\n",
    "\t\treturn w_r2, 'log'\n",
    "\telse:\n",
    "\t\treturn w_r, 'n'"
   ]
  },
  {
   "cell_type": "code",
   "execution_count": 29,
   "id": "602d49a6",
   "metadata": {},
   "outputs": [],
   "source": [
    "def get_error(est,counts):\n",
    "\treturn min(np.max(np.abs(est - counts)),1)\n",
    "def get_error_vector(est,counts):\n",
    "\t## est is trials x k\n",
    "\t## counts is k\n",
    "\treturn np.minimum(np.max(np.abs(est-counts),axis=1),1)\n",
    "\t"
   ]
  },
  {
   "cell_type": "code",
   "execution_count": 30,
   "id": "ae0b23f2",
   "metadata": {},
   "outputs": [],
   "source": [
    "def gen_dataset(n,k, lamb=1):\n",
    "\n",
    "\tp = np.power(lamb,np.arange(k))\n",
    "\tp = p/np.sum(p)\n",
    "\n",
    "\tD = np.random.choice(k, size = n, p = p)\n",
    "\tDMatrix = np.zeros((k,n))\n",
    "\tfor i in range(n):\n",
    "\t\tDMatrix[D[i],i] = 1\n",
    "\t\n",
    "\tcounts = np.sum(DMatrix,axis=1)\n",
    "\treturn DMatrix, counts"
   ]
  },
  {
   "cell_type": "markdown",
   "id": "0788669b",
   "metadata": {},
   "source": [
    "## Correlated Synthetic Dataset, k = 5"
   ]
  },
  {
   "cell_type": "code",
   "execution_count": 31,
   "id": "124f024c",
   "metadata": {},
   "outputs": [
    {
     "name": "stdout",
     "output_type": "stream",
     "text": [
      "[3040. 2298. 1962. 1518. 1182.]\n",
      "Counts is  [0.304  0.2298 0.1962 0.1518 0.1182]\n",
      "Done HPF-C in  1.2269079685211182  seconds\n",
      "Done HPF-A in  0.0016832351684570312  seconds\n",
      "Done HPF-CT in  0.023718833923339844  seconds\n"
     ]
    }
   ],
   "source": [
    "## Synthetic Dataset\n",
    "np.random.seed(1)\n",
    "beta = 0.05\n",
    "n = 10000\n",
    "k = 5\n",
    "\n",
    "\n",
    "Data = np.zeros((k,n))\n",
    "_, counts = gen_dataset(n,k,0.8)\n",
    "ct = 0 \n",
    "print(counts)\n",
    "for i in range(len(counts)):\n",
    "\tData[i,ct:ct+int(counts[i])] = 1\n",
    "\tct += int(counts[i])\n",
    "eps = np.zeros(n)\n",
    "ct = 0 \n",
    "for i in range(len(counts)):\n",
    "\teps[ct:ct+int(counts[i])] = np.exp(-2*i+np.random.uniform(0,3*i,int(counts[i])))\n",
    "\tct += int(counts[i])\n",
    "\n",
    "\n",
    "trials = 5000\n",
    "Dmatrix = Data\n",
    "counts = counts/n\n",
    "\n",
    "print('Counts is ',counts)\n",
    "\n",
    "### hpfc ###\n",
    "begin = time.time()\n",
    "w_hpfc, result = solve_hetdp_cor(eps, k, beta, cp.ECOS)\n",
    "L_hpfc = 2*np.max(w_hpfc/eps)\n",
    "N_hpfc = np.random.laplace(0,L_hpfc,(k,trials))\n",
    "end = time.time()\n",
    "print('Done HPF-C in ',end-begin,' seconds')\n",
    "\n",
    "\n",
    "### hpfa ###\n",
    "begin = time.time()\n",
    "w_hpfa = 1-np.exp(-eps)\n",
    "w_hpfa = w_hpfa/np.sum(w_hpfa)\n",
    "infty_norm = np.max(w_hpfa/eps)\n",
    "L_hpfa = 2*infty_norm\n",
    "N_hpfa = np.random.laplace(0,L_hpfa,(k,trials))\n",
    "end = time.time()\n",
    "print('Done HPF-A in ',end-begin,' seconds')\n",
    "\n",
    "\n",
    "### hpfc-approx ###\n",
    "begin = time.time()\n",
    "w_hpfct, result = solve_hetdp_cor_approx(eps, k, beta)\n",
    "L_hpfct = 2*np.max(w_hpfct/eps)\n",
    "N_hpfct = np.random.laplace(0,L_hpfct,(k,trials))\n",
    "end = time.time()\n",
    "print('Done HPF-CT in ',end-begin,' seconds')"
   ]
  },
  {
   "cell_type": "code",
   "execution_count": 32,
   "id": "c92ce1e3",
   "metadata": {},
   "outputs": [],
   "source": [
    "errors_hpfc = get_error_vector(Dmatrix@w_hpfc + N_hpfc.transpose(),counts)\n",
    "errors_hpfa = get_error_vector(Dmatrix@w_hpfa + N_hpfa.transpose(),counts)\n",
    "errors_hpfct = get_error_vector(Dmatrix@w_hpfct + N_hpfct.transpose(),counts)"
   ]
  },
  {
   "cell_type": "code",
   "execution_count": 33,
   "id": "a1a9cf6b",
   "metadata": {},
   "outputs": [],
   "source": [
    "params = {'text.usetex' : True,\n",
    "          'font.size' : 11,\n",
    "\t\t  'legend.fontsize': 9,\n",
    "          'legend.handlelength': 1.5,\n",
    "          }\n",
    "plt.rcParams.update(params) \n",
    "\n",
    "min_range = min(min(errors_hpfa),min(errors_hpfc), min(errors_hpfct))\n",
    "max_range = max(max(errors_hpfa),max(errors_hpfc), max(errors_hpfct))\n",
    "BINS = 10 ** np.linspace(np.log10(min_range), np.log10(max_range), 1000)"
   ]
  },
  {
   "cell_type": "code",
   "execution_count": 34,
   "id": "b7711915",
   "metadata": {},
   "outputs": [
    {
     "data": {
      "image/png": "[encoded data removed]",
      "text/plain": [
       "<Figure size 432x288 with 1 Axes>"
      ]
     },
     "metadata": {
      "needs_background": "light"
     },
     "output_type": "display_data"
    }
   ],
   "source": [
    "plt.rcParams.update({\n",
    "    'font.size': 8,\n",
    "    'text.usetex': True,\n",
    "    'text.latex.preamble': r'\\usepackage{amsfonts}'\n",
    "})\n",
    "\n",
    "plt.xscale('log')\n",
    "\n",
    "x1, bins, p1 =plt.hist(errors_hpfc, alpha = 1, bins = BINS, color='blue', histtype='step', cumulative=True, density=True)\n",
    "x2, bins, p2 =plt.hist(errors_hpfa, alpha = 1, bins = BINS, color='orange', histtype='step', cumulative=True, density=True)\n",
    "x3, bins, p3 =plt.hist(errors_hpfct, alpha = 1,  bins = BINS, color='black', histtype='step', cumulative=True, density=True)\n",
    "\n",
    "plt.ylim(0,1)\n",
    "plt.xlim(min_range*5, max_range)\n",
    "\n",
    "plt.axvline(x = np.quantile(errors_hpfc,0.95), color = 'blue', linestyle = '--', label=r\"HPF-C$\\mathbb{P}$\")\n",
    "plt.axvline(x = np.quantile(errors_hpfa,0.95), color = 'orange', linestyle = '--', label='HPF-A')\n",
    "plt.axvline(x = np.quantile(errors_hpfct,0.95), color = 'black', linestyle = '--', label='HPF-CT')\n",
    "\n",
    "\n",
    "plt.xlabel('Error')\n",
    "plt.ylabel('Cumulative Distribution')\n",
    "plt.legend(loc='upper left')\n",
    "plt.savefig(\"ApdCorSyn1.pdf\", \n",
    "            dpi=1000, \n",
    "            bbox_inches='tight', \n",
    "            )\n",
    "plt.show()"
   ]
  },
  {
   "cell_type": "code",
   "execution_count": 35,
   "id": "3d161c10",
   "metadata": {},
   "outputs": [
    {
     "name": "stdout",
     "output_type": "stream",
     "text": [
      "0.10509338854214294 0.08281306736934593 0.16737309593013558\n"
     ]
    }
   ],
   "source": [
    "print(np.quantile(errors_hpfc,0.95), np.quantile(errors_hpfa,0.95), np.quantile(errors_hpfct,0.95))"
   ]
  },
  {
   "cell_type": "markdown",
   "id": "0fbd21a8",
   "metadata": {},
   "source": [
    "## Correlated Synthetic k = 20"
   ]
  },
  {
   "cell_type": "code",
   "execution_count": 36,
   "id": "01d3d357",
   "metadata": {},
   "outputs": [
    {
     "name": "stdout",
     "output_type": "stream",
     "text": [
      "[2029. 1632. 1253. 1117.  794.  683.  527.  410.  344.  276.  217.  179.\n",
      "  121.   88.   88.   82.   56.   49.   27.   28.]\n",
      "Counts is  [0.2029 0.1632 0.1253 0.1117 0.0794 0.0683 0.0527 0.041  0.0344 0.0276\n",
      " 0.0217 0.0179 0.0121 0.0088 0.0088 0.0082 0.0056 0.0049 0.0027 0.0028]\n",
      "Done HPF-C in  1.0530569553375244  seconds\n",
      "Done HPF-A in  0.003937721252441406  seconds\n",
      "Done HPF-CT in  0.024326086044311523  seconds\n"
     ]
    },
    {
     "name": "stderr",
     "output_type": "stream",
     "text": [
      "/opt/anaconda3/lib/python3.8/site-packages/cvxpy/problems/problem.py:1296: UserWarning: Solution may be inaccurate. Try another solver, adjusting the solver settings, or solve with verbose=True for more information.\n",
      "  warnings.warn(\n"
     ]
    }
   ],
   "source": [
    "## Synthetic Dataset\n",
    "np.random.seed(1)\n",
    "beta = 0.05\n",
    "n = 10000\n",
    "k = 20\n",
    "\n",
    "\n",
    "Data = np.zeros((k,n))\n",
    "_, counts = gen_dataset(n,k,0.8)\n",
    "ct = 0 \n",
    "print(counts)\n",
    "for i in range(len(counts)):\n",
    "\tData[i,ct:ct+int(counts[i])] = 1\n",
    "\tct += int(counts[i])\n",
    "eps = np.zeros(n)\n",
    "ct = 0 \n",
    "for i in range(len(counts)):\n",
    "\teps[ct:ct+int(counts[i])] = np.exp(np.random.uniform(-0.3*i,0.3*i,int(counts[i])))\n",
    "\tct += int(counts[i])\n",
    "\n",
    "\n",
    "trials = 5000\n",
    "Dmatrix = Data\n",
    "counts = counts/n\n",
    "\n",
    "print('Counts is ',counts)\n",
    "\n",
    "### hpfc ###\n",
    "begin = time.time()\n",
    "w_hpfc, result = solve_hetdp_cor(eps, k, beta, cp.ECOS)\n",
    "L_hpfc = 2*np.max(w_hpfc/eps)\n",
    "N_hpfc = np.random.laplace(0,L_hpfc,(k,trials))\n",
    "end = time.time()\n",
    "print('Done HPF-C in ',end-begin,' seconds')\n",
    "\n",
    "\n",
    "### hpfa ###\n",
    "begin = time.time()\n",
    "w_hpfa = 1-np.exp(-eps)\n",
    "w_hpfa = w_hpfa/np.sum(w_hpfa)\n",
    "infty_norm = np.max(w_hpfa/eps)\n",
    "L_hpfa = 2*infty_norm\n",
    "N_hpfa = np.random.laplace(0,L_hpfa,(k,trials))\n",
    "end = time.time()\n",
    "print('Done HPF-A in ',end-begin,' seconds')\n",
    "\n",
    "### hpfc-approx ###\n",
    "begin = time.time()\n",
    "w_hpfct, result = solve_hetdp_cor_approx(eps, k, beta)\n",
    "L_hpfct = 2*np.max(w_hpfct/eps)\n",
    "N_hpfct = np.random.laplace(0,L_hpfct,(k,trials))\n",
    "end = time.time()\n",
    "print('Done HPF-CT in ',end-begin,' seconds')"
   ]
  },
  {
   "cell_type": "code",
   "execution_count": 37,
   "id": "936c6848",
   "metadata": {},
   "outputs": [],
   "source": [
    "errors_hpfc = get_error_vector(Dmatrix@w_hpfc + N_hpfc.transpose(),counts)\n",
    "errors_hpfa = get_error_vector(Dmatrix@w_hpfa + N_hpfa.transpose(),counts)\n",
    "errors_prop = get_error_vector(Dmatrix@w_hpfct + N_hpfct.transpose(),counts)"
   ]
  },
  {
   "cell_type": "code",
   "execution_count": 39,
   "id": "1658fb44",
   "metadata": {},
   "outputs": [
    {
     "data": {
      "image/png": "[encoded data removed]",
      "text/plain": [
       "<Figure size 432x288 with 1 Axes>"
      ]
     },
     "metadata": {
      "needs_background": "light"
     },
     "output_type": "display_data"
    }
   ],
   "source": [
    "params = {'text.usetex' : True,\n",
    "          'font.size' : 11,\n",
    "\t\t  'legend.fontsize': 9,\n",
    "          'legend.handlelength': 1.5,\n",
    "          }\n",
    "plt.rcParams.update(params) \n",
    "\n",
    "min_range = min(min(errors_hpfa),min(errors_hpfc), min(errors_hpfct))\n",
    "max_range = max(max(errors_hpfa),max(errors_hpfc), max(errors_hpfct))\n",
    "BINS = 10 ** np.linspace(np.log10(min_range), np.log10(max_range), 1000)\n",
    "\n",
    "plt.xscale('log')\n",
    "\n",
    "x1, bins, p1 =plt.hist(errors_hpfc, alpha = 1, bins = BINS, color='blue', histtype='step', cumulative=True, density=True)\n",
    "x2, bins, p2 =plt.hist(errors_hpfa, alpha = 1, bins = BINS, color='orange', histtype='step', cumulative=True, density=True)\n",
    "x3, bins, p3 =plt.hist(errors_hpfct, alpha = 1,  bins = BINS, color='black', histtype='step', cumulative=True, density=True)\n",
    "\n",
    "plt.ylim(0,1)\n",
    "plt.xlim(min_range, max_range)\n",
    "\n",
    "plt.axvline(x = np.quantile(errors_hpfc,0.95), color = 'blue', linestyle = '--', label=r'HPF-C$\\mathbb{P}$',)\n",
    "plt.axvline(x = np.quantile(errors_hpfa,0.95), color = 'orange', linestyle = '--', label='HPF-A')\n",
    "plt.axvline(x = np.quantile(errors_hpfct,0.95), color = 'black', linestyle = '--', label='HPF-CT')\n",
    "\n",
    "\n",
    "plt.xlabel('Error')\n",
    "plt.ylabel('Cumulative Distribution')\n",
    "\n",
    "plt.legend(loc='upper left')\n",
    "plt.savefig(\"ApdCorSyn2.pdf\", \n",
    "            dpi=1000, \n",
    "            bbox_inches='tight', \n",
    "            )\n",
    "plt.show()"
   ]
  },
  {
   "cell_type": "code",
   "execution_count": 40,
   "id": "776e5620",
   "metadata": {},
   "outputs": [
    {
     "name": "stdout",
     "output_type": "stream",
     "text": [
      "0.020236980582578393 0.003343892067475588 0.16737309593013558\n"
     ]
    }
   ],
   "source": [
    "print(np.quantile(errors_hpfc,0.95), np.quantile(errors_hpfa,0.95), np.quantile(errors_hpfct,0.95))"
   ]
  },
  {
   "cell_type": "markdown",
   "id": "e0a9005b",
   "metadata": {},
   "source": [
    "### Uncorrelated Synthetic k=5"
   ]
  },
  {
   "cell_type": "code",
   "execution_count": 41,
   "id": "cc96d472",
   "metadata": {},
   "outputs": [
    {
     "name": "stdout",
     "output_type": "stream",
     "text": [
      "Counts is  [2907. 2365. 1889. 1625. 1214.]\n"
     ]
    },
    {
     "name": "stderr",
     "output_type": "stream",
     "text": [
      "/opt/anaconda3/lib/python3.8/site-packages/cvxpy/problems/problem.py:1296: UserWarning: Solution may be inaccurate. Try another solver, adjusting the solver settings, or solve with verbose=True for more information.\n",
      "  warnings.warn(\n"
     ]
    },
    {
     "name": "stdout",
     "output_type": "stream",
     "text": [
      "Done HPF-U in  2.360786199569702  seconds\n",
      "Done HPF-A in  0.03088688850402832  seconds\n",
      "Done HPF-UT in  0.07567906379699707  seconds\n"
     ]
    }
   ],
   "source": [
    "## Synthetic Dataset\n",
    "np.random.seed(1)\n",
    "beta = 0.05\n",
    "n = 10000\n",
    "k = 5\n",
    "trials = int(n*np.log(n)*2)\n",
    "eps = np.exp(np.random.uniform(-6,6,n))\n",
    "\n",
    "Dmatrix , counts = gen_dataset(n,k,0.8)\n",
    "print('Counts is ',counts)\n",
    "counts = counts/np.sum(counts)\n",
    "\n",
    "### hpfu ###\n",
    "begin = time.time()\n",
    "w_hpfu, result = solve_hetdp_uncor(eps, k, beta, cp.ECOS)\n",
    "L_hpfu = 2*np.max(w_hpfu/eps)\n",
    "N_hpfu = np.random.laplace(0,L_hpfu,(k,trials))\n",
    "end = time.time()\n",
    "print('Done HPF-U in ',end-begin,' seconds')\n",
    "\n",
    "\n",
    "### hpfa ###\n",
    "begin = time.time()\n",
    "w_hpfa = 1-np.exp(-eps)\n",
    "w_hpfa = w_hpfa/np.sum(w_hpfa)\n",
    "infty_norm = np.max(w_hpfa/eps)\n",
    "L_hpfa = 2*infty_norm\n",
    "N_hpfa = np.random.laplace(0,L_hpfa,(k,trials))\n",
    "end = time.time()\n",
    "print('Done HPF-A in ',end-begin,' seconds')\n",
    "\n",
    "\n",
    "### hpfu-approx ###\n",
    "begin = time.time()\n",
    "w_hpfut, result = solve_hetdp_uncor_approx(eps, k, beta)\n",
    "L_hpfut = 2*np.max(w_hpfut/eps)\n",
    "N_hpfut = np.random.laplace(0,L_hpfut,(k,trials))\n",
    "end = time.time()\n",
    "print('Done HPF-UT in ',end-begin,' seconds')"
   ]
  },
  {
   "cell_type": "code",
   "execution_count": 42,
   "id": "4e3ed89f",
   "metadata": {},
   "outputs": [
    {
     "name": "stderr",
     "output_type": "stream",
     "text": [
      "100%|██████████| 184206/184206 [01:43<00:00, 1775.25it/s]\n"
     ]
    }
   ],
   "source": [
    "errors_hpfu = np.zeros(trials)\n",
    "errors_hpfa = np.zeros(trials)\n",
    "errors_hpfut = np.zeros(trials)\n",
    "\n",
    "\n",
    "for _ in tqdm(range(trials)):\n",
    "\tnp.random.shuffle(w_hpfu)\n",
    "\tnp.random.shuffle(w_hpfa)\n",
    "\tnp.random.shuffle(w_hpfut)\n",
    "\t\n",
    "\n",
    "\test_hpfu= Dmatrix@w_hpfu + N_hpfu[:,_]\n",
    "\test_hpfa = Dmatrix@w_hpfa + N_hpfa[:,_]\n",
    "\test_hpfut = Dmatrix@w_hpfut + N_hpfut[:,_]\n",
    "\terrors_hpfu[_]= get_error(est_hpfu,counts)\n",
    "\terrors_hpfa[_]= get_error(est_hpfa,counts)\n",
    "\terrors_hpfut[_]= get_error(est_hpfut,counts)"
   ]
  },
  {
   "cell_type": "code",
   "execution_count": 43,
   "id": "cf3652bd",
   "metadata": {},
   "outputs": [
    {
     "data": {
      "image/png": "[encoded data removed]",
      "text/plain": [
       "<Figure size 432x288 with 1 Axes>"
      ]
     },
     "metadata": {
      "needs_background": "light"
     },
     "output_type": "display_data"
    }
   ],
   "source": [
    "params = {'text.usetex' : True,\n",
    "          'font.size' : 11,\n",
    "\t\t  'legend.fontsize': 9,\n",
    "          'legend.handlelength': 1.5,\n",
    "          }\n",
    "plt.rcParams.update(params) \n",
    "\n",
    "min_range = min(min(errors_hpfa),min(errors_hpfu), min(errors_hpfut))\n",
    "max_range = max(max(errors_hpfa),max(errors_hpfu), max(errors_hpfut))\n",
    "BINS = 10 ** np.linspace(np.log10(min_range), np.log10(max_range), 1000)\n",
    "plt.xscale('log')\n",
    "\n",
    "x1, bins, p1 =plt.hist(errors_hpfu, alpha = 1, bins = BINS, color='blue', histtype='step', cumulative=True, density=True)\n",
    "x2, bins, p2 =plt.hist(errors_hpfa, alpha = 1, bins = BINS, color='orange', histtype='step', cumulative=True, density=True)\n",
    "x3, bins, p3 =plt.hist(errors_hpfut, alpha = 1,  bins = BINS, color='black', histtype='step', cumulative=True, density=True)\n",
    "\n",
    "plt.ylim(0,1)\n",
    "plt.xlim(min_range/2, max_range)\n",
    "\n",
    "plt.axvline(x = np.quantile(errors_hpfu,0.95), color = 'blue', linestyle = '--', label=r'HPF-W$\\mathbb{P}$',)\n",
    "plt.axvline(x = np.quantile(errors_hpfa,0.95), color = 'orange', linestyle = '--', label='HPF-A')\n",
    "plt.axvline(x = np.quantile(errors_hpfut,0.95), color = 'black', linestyle = '--', label='HPF-WT')\n",
    "\n",
    "\n",
    "plt.xlabel('Error')\n",
    "plt.ylabel('Cumulative Distribution')\n",
    "\n",
    "plt.legend(loc='upper left')\n",
    "plt.savefig(\"ApdUncorSyn1.pdf\", \n",
    "            dpi=1000, \n",
    "            bbox_inches='tight', \n",
    "            )\n",
    "plt.show()"
   ]
  },
  {
   "cell_type": "code",
   "execution_count": 33,
   "id": "e3c0266c",
   "metadata": {},
   "outputs": [
    {
     "name": "stdout",
     "output_type": "stream",
     "text": [
      "0.012048279558507548 0.008309263743293827 0.01209675483642212\n"
     ]
    }
   ],
   "source": [
    "print(np.quantile(errors_hpfu,0.95), np.quantile(errors_hpfa,0.95), np.quantile(errors_hpfut,0.95))"
   ]
  },
  {
   "cell_type": "markdown",
   "id": "b35c8211",
   "metadata": {},
   "source": [
    "### Uncor Syn k=20"
   ]
  },
  {
   "cell_type": "code",
   "execution_count": 44,
   "id": "4add5637",
   "metadata": {},
   "outputs": [
    {
     "name": "stdout",
     "output_type": "stream",
     "text": [
      "Counts is  [2004. 1561. 1265. 1051.  835.  676.  562.  437.  379.  264.  213.  200.\n",
      "  143.  111.   75.   64.   56.   47.   26.   31.]\n"
     ]
    },
    {
     "name": "stderr",
     "output_type": "stream",
     "text": [
      "/opt/anaconda3/lib/python3.8/site-packages/cvxpy/problems/problem.py:1296: UserWarning: Solution may be inaccurate. Try another solver, adjusting the solver settings, or solve with verbose=True for more information.\n",
      "  warnings.warn(\n"
     ]
    },
    {
     "name": "stdout",
     "output_type": "stream",
     "text": [
      "Done HPF-U in  2.6212968826293945  seconds\n",
      "Done HPF-A in  0.1260240077972412  seconds\n",
      "Done HPF-UT in  0.17151117324829102  seconds\n"
     ]
    }
   ],
   "source": [
    "## Synthetic Dataset\n",
    "np.random.seed(1)\n",
    "beta = 0.05\n",
    "n = 10000\n",
    "k = 20\n",
    "trials = int(n*np.log(n)*2)\n",
    "eps = np.exp(np.random.uniform(-5,9,n))\n",
    "\n",
    "Dmatrix , counts = gen_dataset(n,k,0.8)\n",
    "print('Counts is ',counts)\n",
    "counts = counts/np.sum(counts)\n",
    "\n",
    "### hpfu ###\n",
    "begin = time.time()\n",
    "w_hpfu, result = solve_hetdp_uncor(eps, k, beta, cp.ECOS)\n",
    "L_hpfu = 2*np.max(w_hpfu/eps)\n",
    "N_hpfu = np.random.laplace(0,L_hpfu,(k,trials))\n",
    "end = time.time()\n",
    "print('Done HPF-U in ',end-begin,' seconds')\n",
    "\n",
    "\n",
    "### hpfa ###\n",
    "begin = time.time()\n",
    "w_hpfa = 1-np.exp(-eps)\n",
    "w_hpfa = w_hpfa/np.sum(w_hpfa)\n",
    "infty_norm = np.max(w_hpfa/eps)\n",
    "L_hpfa = 2*infty_norm\n",
    "N_hpfa = np.random.laplace(0,L_hpfa,(k,trials))\n",
    "end = time.time()\n",
    "print('Done HPF-A in ',end-begin,' seconds')\n",
    "\n",
    "\n",
    "### hpfu-approx ###\n",
    "begin = time.time()\n",
    "w_hpfut, result = solve_hetdp_uncor_approx(eps, k, beta)\n",
    "L_hpfut = 2*np.max(w_hpfut/eps)\n",
    "N_hpfut = np.random.laplace(0,L_hpfut,(k,trials))\n",
    "end = time.time()\n",
    "print('Done HPF-UT in ',end-begin,' seconds')"
   ]
  },
  {
   "cell_type": "code",
   "execution_count": 45,
   "id": "a8c45f5f",
   "metadata": {},
   "outputs": [
    {
     "name": "stderr",
     "output_type": "stream",
     "text": [
      "100%|██████████| 184206/184206 [01:52<00:00, 1634.50it/s]\n"
     ]
    }
   ],
   "source": [
    "errors_hpfu = np.zeros(trials)\n",
    "errors_hpfa = np.zeros(trials)\n",
    "errors_hpfut = np.zeros(trials)\n",
    "\n",
    "\n",
    "for _ in tqdm(range(trials)):\n",
    "\tnp.random.shuffle(w_hpfu)\n",
    "\tnp.random.shuffle(w_hpfa)\n",
    "\tnp.random.shuffle(w_hpfut)\n",
    "\t\n",
    "\n",
    "\test_hpfu= Dmatrix@w_hpfu + N_hpfu[:,_]\n",
    "\test_hpfa = Dmatrix@w_hpfa + N_hpfa[:,_]\n",
    "\test_hpfut = Dmatrix@w_hpfut + N_hpfut[:,_]\n",
    "\terrors_hpfu[_]= get_error(est_hpfu,counts)\n",
    "\terrors_hpfa[_]= get_error(est_hpfa,counts)\n",
    "\terrors_hpfut[_]= get_error(est_hpfut,counts)"
   ]
  },
  {
   "cell_type": "code",
   "execution_count": 46,
   "id": "c9cc1922",
   "metadata": {},
   "outputs": [
    {
     "data": {
      "image/png": "[encoded data removed]",
      "text/plain": [
       "<Figure size 432x288 with 1 Axes>"
      ]
     },
     "metadata": {
      "needs_background": "light"
     },
     "output_type": "display_data"
    }
   ],
   "source": [
    "params = {'text.usetex' : True,\n",
    "          'font.size' : 11,\n",
    "\t\t  'legend.fontsize': 9,\n",
    "          'legend.handlelength': 1.5,\n",
    "          }\n",
    "plt.rcParams.update(params) \n",
    "\n",
    "min_range = min(min(errors_hpfa),min(errors_hpfu), min(errors_hpfut))\n",
    "max_range = max(max(errors_hpfa),max(errors_hpfu), max(errors_hpfut))\n",
    "BINS = 10 ** np.linspace(np.log10(min_range), np.log10(max_range), 1000)\n",
    "plt.xscale('log')\n",
    "\n",
    "x1, bins, p1 =plt.hist(errors_hpfu, alpha = 1, bins = BINS, color='blue', histtype='step', cumulative=True, density=True)\n",
    "x2, bins, p2 =plt.hist(errors_hpfa, alpha = 1, bins = BINS, color='orange', histtype='step', cumulative=True, density=True)\n",
    "x3, bins, p3 =plt.hist(errors_hpfut, alpha = 1,  bins = BINS, color='black', histtype='step', cumulative=True, density=True)\n",
    "\n",
    "plt.ylim(0,1)\n",
    "plt.xlim(min_range, max_range)\n",
    "\n",
    "plt.axvline(x = np.quantile(errors_hpfu,0.95), color = 'blue', linestyle = '--', label=r'HPF-W$\\mathbb{P}$')\n",
    "plt.axvline(x = np.quantile(errors_hpfa,0.95), color = 'orange', linestyle = '--', label='HPF-A')\n",
    "plt.axvline(x = np.quantile(errors_hpfut,0.95), color = 'black', linestyle = '--', label='HPF-WT')\n",
    "\n",
    "\n",
    "plt.xlabel('Error')\n",
    "plt.ylabel('Cumulative Distribution')\n",
    "\n",
    "plt.legend(loc='upper left')\n",
    "plt.savefig(\"ApdUncorSyn2.pdf\", \n",
    "            dpi=1000, \n",
    "            bbox_inches='tight', \n",
    "            )\n",
    "plt.show()"
   ]
  },
  {
   "cell_type": "code",
   "execution_count": 53,
   "id": "9f1d3430",
   "metadata": {},
   "outputs": [
    {
     "name": "stdout",
     "output_type": "stream",
     "text": [
      "0.01040125536313365 0.005488739621072769 0.010422301455965729\n"
     ]
    }
   ],
   "source": [
    "print(np.quantile(errors_hpfu,0.95), np.quantile(errors_hpfa,0.95), np.quantile(errors_hpfut,0.95))"
   ]
  },
  {
   "cell_type": "code",
   "execution_count": 58,
   "id": "d68e8447",
   "metadata": {},
   "outputs": [
    {
     "name": "stdout",
     "output_type": "stream",
     "text": [
      "Counts is  [2907. 2365. 1889. 1625. 1214.]\n"
     ]
    },
    {
     "name": "stderr",
     "output_type": "stream",
     "text": [
      "/opt/anaconda3/lib/python3.8/site-packages/cvxpy/problems/problem.py:1296: UserWarning: Solution may be inaccurate. Try another solver, adjusting the solver settings, or solve with verbose=True for more information.\n",
      "  warnings.warn(\n"
     ]
    },
    {
     "name": "stdout",
     "output_type": "stream",
     "text": [
      "Done HPF-U in  2.554561138153076  seconds\n",
      "Done HPF-A in  0.027959823608398438  seconds\n",
      "Done HPF-UT in  0.07854890823364258  seconds\n"
     ]
    }
   ],
   "source": [
    "## Synthetic Dataset\n",
    "np.random.seed(1)\n",
    "beta = 0.05\n",
    "n = 10000\n",
    "k = 5\n",
    "trials = int(n*np.log(n)*2)\n",
    "eps = np.exp(np.random.uniform(-2,2,n))\n",
    "\n",
    "Dmatrix , counts = gen_dataset(n,k,0.8)\n",
    "print('Counts is ',counts)\n",
    "counts = counts/np.sum(counts)\n",
    "\n",
    "### hpfu ###\n",
    "begin = time.time()\n",
    "w_hpfu, result = solve_hetdp_uncor(eps, k, beta, cp.ECOS)\n",
    "L_hpfu = 2*np.max(w_hpfu/eps)\n",
    "N_hpfu = np.random.laplace(0,L_hpfu,(k,trials))\n",
    "end = time.time()\n",
    "print('Done HPF-U in ',end-begin,' seconds')\n",
    "\n",
    "\n",
    "### hpfa ###\n",
    "begin = time.time()\n",
    "w_hpfa = 1-np.exp(-eps)\n",
    "w_hpfa = w_hpfa/np.sum(w_hpfa)\n",
    "infty_norm = np.max(w_hpfa/eps)\n",
    "L_hpfa = 2*infty_norm\n",
    "N_hpfa = np.random.laplace(0,L_hpfa,(k,trials))\n",
    "end = time.time()\n",
    "print('Done HPF-A in ',end-begin,' seconds')\n",
    "\n",
    "\n",
    "### hpfu-approx ###\n",
    "begin = time.time()\n",
    "w_hpfut, result = solve_hetdp_uncor_approx(eps, k, beta)\n",
    "L_hpfut = 2*np.max(w_hpfut/eps)\n",
    "N_hpfut = np.random.laplace(0,L_hpfut,(k,trials))\n",
    "end = time.time()\n",
    "print('Done HPF-UT in ',end-begin,' seconds')"
   ]
  },
  {
   "cell_type": "code",
   "execution_count": 59,
   "id": "98528de2",
   "metadata": {},
   "outputs": [
    {
     "name": "stderr",
     "output_type": "stream",
     "text": [
      "100%|██████████| 184206/184206 [02:08<00:00, 1436.78it/s]\n"
     ]
    }
   ],
   "source": [
    "errors_hpfu = np.zeros(trials)\n",
    "errors_hpfa = np.zeros(trials)\n",
    "errors_hpfut = np.zeros(trials)\n",
    "\n",
    "\n",
    "for _ in tqdm(range(trials)):\n",
    "\tnp.random.shuffle(w_hpfu)\n",
    "\tnp.random.shuffle(w_hpfa)\n",
    "\tnp.random.shuffle(w_hpfut)\n",
    "\t\n",
    "\n",
    "\test_hpfu= Dmatrix@w_hpfu + N_hpfu[:,_]\n",
    "\test_hpfa = Dmatrix@w_hpfa + N_hpfa[:,_]\n",
    "\test_hpfut = Dmatrix@w_hpfut + N_hpfut[:,_]\n",
    "\terrors_hpfu[_]= get_error(est_hpfu,counts)\n",
    "\terrors_hpfa[_]= get_error(est_hpfa,counts)\n",
    "\terrors_hpfut[_]= get_error(est_hpfut,counts)"
   ]
  },
  {
   "cell_type": "code",
   "execution_count": 60,
   "id": "3d6fe859",
   "metadata": {},
   "outputs": [
    {
     "data": {
      "image/png": "[encoded data removed]",
      "text/plain": [
       "<Figure size 432x288 with 1 Axes>"
      ]
     },
     "metadata": {
      "needs_background": "light"
     },
     "output_type": "display_data"
    }
   ],
   "source": [
    "params = {'text.usetex' : True,\n",
    "          'font.size' : 11,\n",
    "\t\t  'legend.fontsize': 9,\n",
    "          'legend.handlelength': 1.5,\n",
    "          }\n",
    "plt.rcParams.update(params) \n",
    "\n",
    "min_range = min(min(errors_hpfa),min(errors_hpfu), min(errors_hpfut))\n",
    "max_range = max(max(errors_hpfa),max(errors_hpfu), max(errors_hpfut))\n",
    "BINS = 10 ** np.linspace(np.log10(min_range), np.log10(max_range), 100)\n",
    "plt.xscale('log')\n",
    "\n",
    "x1, bins, p1 =plt.hist(errors_hpfu, alpha = 1, bins = BINS, color='blue', histtype='step', cumulative=True, density=True)\n",
    "x2, bins, p2 =plt.hist(errors_hpfa, alpha = 1, bins = BINS, color='orange', histtype='step', cumulative=True, density=True)\n",
    "x3, bins, p3 =plt.hist(errors_hpfut, alpha = 1,  bins = BINS, color='black', histtype='step', cumulative=True, density=True)\n",
    "\n",
    "plt.ylim(0,1)\n",
    "plt.xlim(min_range, max_range)\n",
    "\n",
    "plt.axvline(x = np.quantile(errors_hpfu,0.95), color = 'blue', linestyle = '--', label='HPF-U',)\n",
    "plt.axvline(x = np.quantile(errors_hpfa,0.95), color = 'orange', linestyle = '--', label='HPF-A')\n",
    "plt.axvline(x = np.quantile(errors_hpfut,0.95), color = 'black', linestyle = '--', label='HPF-UT')\n",
    "\n",
    "\n",
    "plt.xlabel('Error')\n",
    "plt.ylabel('Cumulative Distribution')\n",
    "\n",
    "plt.legend(loc='upper left')\n",
    "plt.savefig(\"ApdUncorSyn1-LowVar.pdf\", \n",
    "            dpi=1000, \n",
    "            bbox_inches='tight', \n",
    "            )\n",
    "plt.show()"
   ]
  },
  {
   "cell_type": "code",
   "execution_count": 61,
   "id": "2d3b5024",
   "metadata": {},
   "outputs": [
    {
     "name": "stdout",
     "output_type": "stream",
     "text": [
      "0.006460290840736821 0.005315946327339831 0.006705377394489669\n"
     ]
    }
   ],
   "source": [
    "print(np.quantile(errors_hpfu,0.95), np.quantile(errors_hpfa,0.95), np.quantile(errors_hpfut,0.95))"
   ]
  },
  {
   "cell_type": "code",
   "execution_count": null,
   "id": "d3e19652",
   "metadata": {},
   "outputs": [],
   "source": []
  }
 ],
 "metadata": {
  "kernelspec": {
   "display_name": "base",
   "language": "python",
   "name": "python3"
  },
  "language_info": {
   "codemirror_mode": {
    "name": "ipython",
    "version": 3
   },
   "file_extension": ".py",
   "mimetype": "text/x-python",
   "name": "python",
   "nbconvert_exporter": "python",
   "pygments_lexer": "ipython3",
   "version": "3.8.8"
  }
 },
 "nbformat": 4,
 "nbformat_minor": 5
}
