{
 "cells": [
  {
   "cell_type": "code",
   "execution_count": 1,
   "id": "30d9e04c",
   "metadata": {},
   "outputs": [],
   "source": [
    "import numpy as np\n",
    "import matplotlib.pyplot as plt\n",
    "import pandas as pd\n",
    "import cvxpy as cp\n",
    "import time\n",
    "from tqdm import tqdm"
   ]
  },
  {
   "cell_type": "code",
   "execution_count": 2,
   "id": "0c780d75",
   "metadata": {},
   "outputs": [],
   "source": [
    "def solve_hetdp_cor(eps, k, beta, num_solver):\n",
    "\tn = len(eps)\n",
    "\tones = np.ones(n)\n",
    "\n",
    "\tw = cp.Variable(n)\n",
    "\tobjective2 = cp.Minimize(cp.power(cp.norm(w/eps,'inf'),2)*((np.log(k/beta))**2) + cp.power(cp.norm(w - (ones/n),1),2))\n",
    "\tconstraints2 = [0 <= w, w@ones == 1]\n",
    "\tprob2 = cp.Problem(objective2, constraints2)\n",
    "\tresult2 = prob2.solve(solver = num_solver)\n",
    "\n",
    "\treturn w.value, np.sqrt(result2)\n",
    "\n",
    "\n",
    "\n",
    "def solve_hetdp_uncor(eps, k, beta, num_solver):\n",
    "\tn = len(eps)\n",
    "\tones = np.ones(n)\n",
    "\n",
    "\tw = cp.Variable(n)\n",
    "\tobjective1 = cp.Minimize(cp.power(cp.norm(w/eps,'inf'),2)*((np.log(k/beta))**2) + cp.power(cp.norm(w - (ones/n),1),2))\n",
    "\tconstraints1 = [0 <= w, w@ones == 1]\n",
    "\tprob1 = cp.Problem(objective1, constraints1)\n",
    "\tresult1 = prob1.solve(solver = num_solver)\n",
    "\n",
    "\tw2 = cp.Variable(n)\n",
    "\tobjective2 = cp.Minimize(cp.power(cp.norm(w2/eps,'inf'),2)*((np.log(k/beta))**2) + cp.power(cp.norm(w2,2),2)*np.log(k/beta))\n",
    "\tconstraints2 = [0 <= w2, w2@ones == 1]\n",
    "\tprob2 = cp.Problem(objective2, constraints2)\n",
    "\tresult2 = prob2.solve(solver = num_solver)\n",
    "\n",
    "\tif result1 < result2:\n",
    "\t\treturn w.value, np.sqrt(result1)\n",
    "\telse:\n",
    "\t\treturn w2.value, np.sqrt(result2)"
   ]
  },
  {
   "cell_type": "code",
   "execution_count": 3,
   "id": "20c3f8f1",
   "metadata": {},
   "outputs": [],
   "source": [
    "def solve_ldp_cor(eps, k, beta):\n",
    "\tn = len(eps)\n",
    "\tones = np.ones(n)\n",
    "\tcoefs = n+((np.log(k/beta))/(np.tanh(eps/4)*eps))\n",
    "\n",
    "\tw = 1/coefs\n",
    "\tw = w/np.sum(w)\n",
    "\treturn w, 1\n",
    "\n",
    "def solve_ldp_uncor(eps, k, beta):\n",
    "\tn = len(eps)\n",
    "\tones = np.ones(n)\n",
    "\tcoefs = 1+(1/(np.tanh(eps/4)*eps))\n",
    "\n",
    "\tw = 1/coefs\n",
    "\tw = w/np.sum(w)\n",
    "\treturn w, 1\n",
    "\n",
    "def kRAPPOR_cor(eps, Dmatrix, trials):\n",
    "\t#Dmatrix is k x n\n",
    "\tn = len(eps)\n",
    "\tk = Dmatrix.shape[0]\n",
    "\n",
    "\tprobs = np.exp(eps/2)/(1+np.exp(eps/2))\n",
    "\tbias = 1/(1+np.exp(eps/2))\n",
    "\n",
    "\tresponse_noise = np.random.binomial(1, probs, (trials, k, n))\n",
    "\tData = Dmatrix.copy()\n",
    "\tldp_data = Data*response_noise + (1-Data)*(1-response_noise)\n",
    "\tldp_data_unbiased = (ldp_data - bias)/np.tanh(eps/4)\n",
    "\treturn ldp_data_unbiased\n",
    "\n",
    "def kRAPPOR_uncor(eps, Dmatrix, trials):\n",
    "\t#Dmatrix is k x n\n",
    "\tn = len(eps)\n",
    "\n",
    "\tprobs = np.exp(eps/2)/(1+np.exp(eps/2))\n",
    "\tbias = 1/(1+np.exp(eps/2))\n",
    "\n",
    "\tresponse_noise = np.random.binomial(1, probs, (k, n))\n",
    "\tldp_data = Dmatrix*response_noise + (1-Dmatrix)*(1-response_noise)\n",
    "\tldp_data_unbiased = (ldp_data - bias)/np.tanh(eps/4)\n",
    "\treturn ldp_data_unbiased"
   ]
  },
  {
   "cell_type": "code",
   "execution_count": 4,
   "id": "602d49a6",
   "metadata": {},
   "outputs": [],
   "source": [
    "def get_error(est,counts):\n",
    "\treturn min(np.max(np.abs(est - counts)),1)\n",
    "def get_error_vector(est,counts):\n",
    "\t## est is trials x k\n",
    "\t## counts is k\n",
    "\treturn np.minimum(np.max(np.abs(est-counts),axis=1),1)\n",
    "\t"
   ]
  },
  {
   "cell_type": "code",
   "execution_count": 5,
   "id": "ae0b23f2",
   "metadata": {},
   "outputs": [],
   "source": [
    "def gen_dataset(n,k, lamb=1):\n",
    "\n",
    "\tp = np.power(lamb,np.arange(k))\n",
    "\tp = p/np.sum(p)\n",
    "\n",
    "\tD = np.random.choice(k, size = n, p = p)\n",
    "\tDMatrix = np.zeros((k,n))\n",
    "\tfor i in range(n):\n",
    "\t\tDMatrix[D[i],i] = 1\n",
    "\t\n",
    "\tcounts = np.sum(DMatrix,axis=1)\n",
    "\treturn DMatrix, counts"
   ]
  },
  {
   "cell_type": "markdown",
   "id": "760a5946",
   "metadata": {},
   "source": [
    "## UC Salary, C, P"
   ]
  },
  {
   "cell_type": "code",
   "execution_count": 6,
   "metadata": {},
   "outputs": [
    {
     "name": "stdout",
     "output_type": "stream",
     "text": [
      "324043\n"
     ]
    }
   ],
   "source": [
    "## Real Dataset\n",
    "np.random.seed(1)\n",
    "df =  pd.read_csv('UCData.csv')\n",
    "x = np.array(df['TotalWages'])\n",
    "print(len(x))\n",
    "x = np.random.choice(x,50000,replace=False) #sub-sample dataset\n",
    "\n",
    "counts, bins = np.histogram(x, bins = [0,1000,5000,15000,30000,60000,120000,240000,480000,960000,2000000,4000000,8000000])\n",
    "Data = np.zeros((12,len(x)))\n",
    "ct = 0 \n",
    "for i in range(len(counts)):\n",
    "\tData[i,ct:ct+counts[i]] = 1\n",
    "\tct += counts[i]\n",
    "\n",
    "np.random.seed(1)\n",
    "eps = np.zeros(len(x))\n",
    "ct = 0 \n",
    "for i in range(len(counts)):\n",
    "\teps[ct:ct+counts[i]] = np.exp(-abs(i-5.5) + np.random.uniform(-3,3,counts[i]))\n",
    "\tct += counts[i]"
   ]
  },
  {
   "cell_type": "code",
   "execution_count": 7,
   "id": "3c193415",
   "metadata": {},
   "outputs": [
    {
     "name": "stdout",
     "output_type": "stream",
     "text": [
      "Counts is  [6.7060e-02 1.4894e-01 1.2924e-01 9.5000e-02 1.6980e-01 2.2798e-01\n",
      " 1.2630e-01 2.9740e-02 5.3800e-03 5.4000e-04 0.0000e+00 2.0000e-05]\n"
     ]
    },
    {
     "name": "stderr",
     "output_type": "stream",
     "text": [
      "/opt/anaconda3/lib/python3.8/site-packages/cvxpy/problems/problem.py:1296: UserWarning: Solution may be inaccurate. Try another solver, adjusting the solver settings, or solve with verbose=True for more information.\n",
      "  warnings.warn(\n"
     ]
    },
    {
     "name": "stdout",
     "output_type": "stream",
     "text": [
      "Done HPF-C in  8.24040699005127  seconds\n",
      "Done HPF-A in  0.003773927688598633  seconds\n",
      "Done Prop in  0.0029408931732177734  seconds\n",
      "Done UNI in  0.0025908946990966797  seconds\n",
      "Done SM in  9.922703742980957  seconds\n",
      "Done LDP in  615.7520160675049  seconds\n"
     ]
    }
   ],
   "source": [
    "### Correlated\n",
    "np.random.seed(1)\n",
    "beta = 0.05\n",
    "n = len(x)\n",
    "k = 12\n",
    "trials = 5000\n",
    "\n",
    "Dmatrix = Data\n",
    "counts = np.sum(Dmatrix,axis=1)/n\n",
    "print('Counts is ',counts)\n",
    "\n",
    "### hpfc ###\n",
    "begin = time.time()\n",
    "w_hpfc, result = solve_hetdp_cor(eps, k, beta, cp.ECOS)\n",
    "L_hpfc = 2*np.max(w_hpfc/eps)\n",
    "N_hpfc = np.random.laplace(0,L_hpfc,(k,trials))\n",
    "end = time.time()\n",
    "print('Done HPF-C in ',end-begin,' seconds')\n",
    "\n",
    "\n",
    "### hpfa ###\n",
    "begin = time.time()\n",
    "w_hpfa = 1-np.exp(-eps)\n",
    "w_hpfa = w_hpfa/np.sum(w_hpfa)\n",
    "infty_norm = np.max(w_hpfa/eps)\n",
    "L_hpfa = 2*infty_norm\n",
    "N_hpfa = np.random.laplace(0,L_hpfa,(k,trials))\n",
    "end = time.time()\n",
    "print('Done HPF-A in ',end-begin,' seconds')\n",
    "\n",
    "\n",
    "### Prop ###\n",
    "begin = time.time()\n",
    "w_prop = eps\n",
    "w_prop = w_prop/np.sum(w_prop)\n",
    "L_prop = 2*np.max(w_prop/eps)\n",
    "N_prop = np.random.laplace(0,L_prop,(k,trials))\n",
    "end = time.time()\n",
    "print('Done Prop in ',end-begin,' seconds')\n",
    "\n",
    "\n",
    "### UNI ###\n",
    "begin = time.time()\n",
    "eps1 = np.min(eps)\n",
    "w_uni = np.ones(n)/n\n",
    "L_uni = 2*np.max(1/eps)/n\n",
    "N_uni = np.random.laplace(0,L_uni,(k,trials))\n",
    "end = time.time()\n",
    "print('Done UNI in ',end-begin,' seconds')\n",
    "\n",
    "\n",
    "### SM ###\n",
    "begin = time.time()\n",
    "t = np.max(eps)\n",
    "sm_bern_matrix = np.random.binomial(1,(np.exp(eps)-1)/(np.exp(t)-1), (trials,n))\n",
    "N_sm = np.random.laplace(0,2/(t*np.sum(sm_bern_matrix, axis=1)),size = (k,trials))\n",
    "end = time.time()\n",
    "print('Done SM in ',end-begin,' seconds')\n",
    "\n",
    "\n",
    "### LDP ###\n",
    "begin = time.time()\n",
    "w_ldp, result = solve_ldp_cor(eps, k, beta)\n",
    "ldp_data_matrix = kRAPPOR_cor(eps, Dmatrix, trials)\n",
    "end = time.time()\n",
    "print('Done LDP in ',end-begin,' seconds')"
   ]
  },
  {
   "cell_type": "code",
   "execution_count": 8,
   "id": "dcd2b951",
   "metadata": {},
   "outputs": [],
   "source": [
    "errors_hpfc = get_error_vector(Dmatrix@w_hpfc + N_hpfc.transpose(),counts)\n",
    "errors_hpfa = get_error_vector(Dmatrix@w_hpfa + N_hpfa.transpose(),counts)\n",
    "errors_prop = get_error_vector(Dmatrix@w_prop + N_prop.transpose(),counts)\n",
    "errors_uni = get_error_vector(Dmatrix@w_uni + N_uni.transpose(),counts)\n",
    "errors_ldp = get_error_vector(ldp_data_matrix@w_ldp,counts)\n",
    "est_sm = get_error_vector((Dmatrix@sm_bern_matrix.transpose()/np.sum(sm_bern_matrix,axis=1) + N_sm).transpose(),counts)"
   ]
  },
  {
   "cell_type": "code",
   "execution_count": 59,
   "id": "11f255db",
   "metadata": {},
   "outputs": [],
   "source": [
    "params = {'text.usetex' : True,\n",
    "          'font.size' : 11,\n",
    "\t\t  'legend.fontsize': 9,\n",
    "          'legend.handlelength': 1.5,\n",
    "          }\n",
    "plt.rcParams.update(params) \n",
    "\n",
    "min_range = min(min(errors_hpfa),min(errors_hpfc), min(errors_uni) , min(errors_ldp), min(errors_prop))\n",
    "max_range = max(max(errors_hpfa),max(errors_hpfc), max(errors_uni) , max(errors_ldp), max(errors_prop))\n",
    "BINS = 10 ** np.linspace(np.log10(min_range), np.log10(max_range*2), 100)"
   ]
  },
  {
   "cell_type": "code",
   "execution_count": 60,
   "id": "b8730a05",
   "metadata": {},
   "outputs": [
    {
     "data": {
      "image/png": "[encoded data removed]",
      "text/plain": [
       "<Figure size 432x288 with 1 Axes>"
      ]
     },
     "metadata": {
      "needs_background": "light"
     },
     "output_type": "display_data"
    }
   ],
   "source": [
    "plt.xscale('log')\n",
    "\n",
    "plt.plot(np.sort(errors_hpfc), np.linspace(0, 1, len(errors_hpfc), endpoint=False), alpha = 1,color='blue')\n",
    "plt.plot(np.sort(errors_hpfa), np.linspace(0, 1, len(errors_hpfa), endpoint=False), alpha = 1,color='orange')\n",
    "plt.plot(np.sort(errors_ldp), np.linspace(0, 1, len(errors_ldp), endpoint=False), alpha = 1,color='black')\n",
    "plt.plot(np.sort(errors_uni), np.linspace(0, 1, len(errors_uni), endpoint=False), alpha = 1,color='green')\n",
    "plt.plot(np.sort(est_sm), np.linspace(0, 1, len(est_sm), endpoint=False), alpha = 1,color='red')\n",
    "plt.plot(np.sort(errors_prop), np.linspace(0, 1, len(errors_prop), endpoint=False), alpha = 1,color='violet')\n",
    "\n",
    "plt.ylim(0,1)\n",
    "plt.xlim(min_range, max_range*2)\n",
    "\n",
    "plt.axvline(x = np.quantile(errors_hpfc,0.95), color = 'blue', linestyle = '--', label=r'HPF-CP',)\n",
    "plt.axvline(x = np.quantile(errors_hpfa,0.95), color = 'orange', linestyle = '--', label='HPF-A')\n",
    "plt.axvline(x = np.quantile(errors_ldp,0.95), color = 'black', linestyle = '--', label='LDP')\n",
    "plt.axvline(x = np.quantile(errors_uni,0.95), color = 'green', linestyle = '--', label='UNI')\n",
    "plt.axvline(x = np.quantile(est_sm,0.95), color = 'red', linestyle = '--', label='SM')\n",
    "plt.axvline(x = np.quantile(errors_prop,0.95), color = 'violet', linestyle = '--', label='Prop')\n",
    "\n",
    "\n",
    "plt.xlabel('Error')\n",
    "plt.ylabel('Cumulative Distribution')\n",
    "\n",
    "plt.legend(loc='upper left')\n",
    "plt.savefig(\"UC-CP.pdf\", \n",
    "            dpi=1000, \n",
    "            bbox_inches='tight', \n",
    "            )\n",
    "plt.show()"
   ]
  },
  {
   "cell_type": "code",
   "execution_count": 56,
   "id": "a6091e55",
   "metadata": {},
   "outputs": [
    {
     "name": "stdout",
     "output_type": "stream",
     "text": [
      "0.11840227521082926 0.17428931186696694 1.0 0.4199777524639769 0.4592659815536066 0.2728653689603686\n",
      "0.0053560635212549996 0.03026483894508084 0.3961585760412722 0.08741147791176891 0.17986458918891915 0.07439960150569744\n"
     ]
    }
   ],
   "source": [
    "print(np.quantile(errors_hpfc,0.95), np.quantile(errors_hpfa,0.95), np.quantile(errors_uni,0.95), np.quantile(errors_ldp,0.95), np.quantile(est_sm,0.95), np.quantile(errors_prop,0.95))\n",
    "print(np.mean(np.square(errors_hpfc)), np.mean(np.square(errors_hpfa)), np.mean(np.square(errors_uni)), np.mean(np.square(errors_ldp)), np.mean(np.square(est_sm)), np.mean(np.square(errors_prop)))\n"
   ]
  },
  {
   "cell_type": "code",
   "execution_count": 55,
   "id": "72571077",
   "metadata": {},
   "outputs": [],
   "source": [
    "## Saving performance:\n",
    "errors_hpfc_UC = errors_hpfc\n",
    "errors_hpfa_UC = errors_hpfa\n",
    "errors_ldp_UC = errors_ldp\n",
    "errors_uni_UC = errors_uni\n",
    "est_sm_UC = est_sm\n",
    "errors_prop_UC = errors_prop\n"
   ]
  },
  {
   "cell_type": "markdown",
   "id": "a1c4d5c0",
   "metadata": {},
   "source": [
    "## UC Salary, C, E"
   ]
  },
  {
   "cell_type": "code",
   "execution_count": 16,
   "id": "fe675f7e",
   "metadata": {},
   "outputs": [
    {
     "name": "stdout",
     "output_type": "stream",
     "text": [
      "Counts is  [6.7060e-02 1.4894e-01 1.2924e-01 9.5000e-02 1.6980e-01 2.2798e-01\n",
      " 1.2630e-01 2.9740e-02 5.3800e-03 5.4000e-04 0.0000e+00 2.0000e-05]\n",
      "Done HPF-C in  9.009101152420044  seconds\n",
      "0.011740334529033301\n"
     ]
    }
   ],
   "source": [
    "### Correlated\n",
    "np.random.seed(1)\n",
    "beta = 1\n",
    "n = len(x)\n",
    "k = 12\n",
    "trials = 5000\n",
    "\n",
    "Dmatrix = Data\n",
    "counts = np.sum(Dmatrix,axis=1)/n\n",
    "print('Counts is ',counts)\n",
    "\n",
    "### hpfc ###\n",
    "begin = time.time()\n",
    "w_hpfc, result = solve_hetdp_cor(eps, k, beta, cp.ECOS)\n",
    "L_hpfc = 2*np.max(w_hpfc/eps)\n",
    "N_hpfc = np.random.laplace(0,L_hpfc,(k,trials))\n",
    "end = time.time()\n",
    "print('Done HPF-C in ',end-begin,' seconds')\n",
    "\n",
    "errors_hpfce = get_error_vector(Dmatrix@w_hpfc + N_hpfc.transpose(),counts)\n",
    "\n",
    "print(np.mean(np.square(errors_hpfce)))\n",
    "\n"
   ]
  },
  {
   "cell_type": "markdown",
   "id": "0788669b",
   "metadata": {},
   "source": [
    "## Correlated Synthetic Dataset, k = 5"
   ]
  },
  {
   "cell_type": "code",
   "execution_count": 17,
   "id": "124f024c",
   "metadata": {},
   "outputs": [
    {
     "name": "stdout",
     "output_type": "stream",
     "text": [
      "[3040. 2298. 1962. 1518. 1182.]\n",
      "Counts is  [0.304  0.2298 0.1962 0.1518 0.1182]\n",
      "Done HPF-C in  1.1550378799438477  seconds\n",
      "Done HPF-A in  0.002743959426879883  seconds\n",
      "Done Prop in  0.0034377574920654297  seconds\n",
      "Done UNI in  0.00428318977355957  seconds\n",
      "Done SM in  1.6035029888153076  seconds\n",
      "Done LDP in  28.604459047317505  seconds\n"
     ]
    }
   ],
   "source": [
    "## Synthetic Dataset\n",
    "np.random.seed(1)\n",
    "beta = 0.05\n",
    "n = 10000\n",
    "k = 5\n",
    "\n",
    "\n",
    "Data = np.zeros((k,n))\n",
    "_, counts = gen_dataset(n,k,0.8)\n",
    "ct = 0 \n",
    "print(counts)\n",
    "for i in range(len(counts)):\n",
    "\tData[i,ct:ct+int(counts[i])] = 1\n",
    "\tct += int(counts[i])\n",
    "eps = np.zeros(n)\n",
    "ct = 0 \n",
    "for i in range(len(counts)):\n",
    "\teps[ct:ct+int(counts[i])] = np.exp(-2*i+np.random.uniform(0,3*i,int(counts[i])))\n",
    "\tct += int(counts[i])\n",
    "\n",
    "\n",
    "trials = 5000\n",
    "Dmatrix = Data\n",
    "counts = counts/n\n",
    "\n",
    "print('Counts is ',counts)\n",
    "\n",
    "### hpfc ###\n",
    "begin = time.time()\n",
    "w_hpfc, result = solve_hetdp_cor(eps, k, beta, cp.ECOS)\n",
    "L_hpfc = 2*np.max(w_hpfc/eps)\n",
    "N_hpfc = np.random.laplace(0,L_hpfc,(k,trials))\n",
    "end = time.time()\n",
    "print('Done HPF-C in ',end-begin,' seconds')\n",
    "\n",
    "\n",
    "### hpfa ###\n",
    "begin = time.time()\n",
    "w_hpfa = 1-np.exp(-eps)\n",
    "w_hpfa = w_hpfa/np.sum(w_hpfa)\n",
    "infty_norm = np.max(w_hpfa/eps)\n",
    "L_hpfa = 2*infty_norm\n",
    "N_hpfa = np.random.laplace(0,L_hpfa,(k,trials))\n",
    "end = time.time()\n",
    "print('Done HPF-A in ',end-begin,' seconds')\n",
    "\n",
    "\n",
    "### Prop ###\n",
    "begin = time.time()\n",
    "w_prop = eps\n",
    "w_prop = w_prop/np.sum(w_prop)\n",
    "L_prop = 2*np.max(w_prop/eps)\n",
    "N_prop = np.random.laplace(0,L_prop,(k,trials))\n",
    "end = time.time()\n",
    "print('Done Prop in ',end-begin,' seconds')\n",
    "\n",
    "\n",
    "### UNI ###\n",
    "begin = time.time()\n",
    "eps1 = np.min(eps)\n",
    "w_uni = np.ones(n)/n\n",
    "L_uni = 2*np.max(1/eps)/n\n",
    "N_uni = np.random.laplace(0,L_uni,(k,trials))\n",
    "end = time.time()\n",
    "print('Done UNI in ',end-begin,' seconds')\n",
    "\n",
    "\n",
    "### SM ###\n",
    "begin = time.time()\n",
    "t = np.max(eps)\n",
    "sm_bern_matrix = np.random.binomial(1,(np.exp(eps)-1)/(np.exp(t)-1), (trials,n))\n",
    "N_sm = np.random.laplace(0,2/(t*np.sum(sm_bern_matrix, axis=1)),size = (k,trials))\n",
    "end = time.time()\n",
    "print('Done SM in ',end-begin,' seconds')\n",
    "\n",
    "\n",
    "### LDP ###\n",
    "begin = time.time()\n",
    "w_ldp, result = solve_ldp_cor(eps, k, beta)\n",
    "ldp_data_matrix = kRAPPOR_cor(eps, Dmatrix, trials)\n",
    "end = time.time()\n",
    "print('Done LDP in ',end-begin,' seconds')"
   ]
  },
  {
   "cell_type": "code",
   "execution_count": 18,
   "id": "c92ce1e3",
   "metadata": {},
   "outputs": [],
   "source": [
    "errors_hpfc = get_error_vector(Dmatrix@w_hpfc + N_hpfc.transpose(),counts)\n",
    "errors_hpfa = get_error_vector(Dmatrix@w_hpfa + N_hpfa.transpose(),counts)\n",
    "errors_prop = get_error_vector(Dmatrix@w_prop + N_prop.transpose(),counts)\n",
    "errors_uni = get_error_vector(Dmatrix@w_uni + N_uni.transpose(),counts)\n",
    "errors_ldp = get_error_vector(ldp_data_matrix@w_ldp,counts)\n",
    "est_sm = get_error_vector((Dmatrix@sm_bern_matrix.transpose()/np.sum(sm_bern_matrix,axis=1) + N_sm).transpose(),counts)"
   ]
  },
  {
   "cell_type": "code",
   "execution_count": 19,
   "id": "a1a9cf6b",
   "metadata": {},
   "outputs": [],
   "source": [
    "params = {'text.usetex' : True,\n",
    "          'font.size' : 11,\n",
    "\t\t  'legend.fontsize': 9,\n",
    "          'legend.handlelength': 1.5,\n",
    "          }\n",
    "plt.rcParams.update(params) \n",
    "\n",
    "min_range = min(min(errors_hpfa),min(errors_hpfc), min(errors_uni) , min(errors_ldp), min(errors_prop))\n",
    "max_range = max(max(errors_hpfa),max(errors_hpfc), max(errors_uni) , max(errors_ldp), max(errors_prop))"
   ]
  },
  {
   "cell_type": "code",
   "execution_count": 22,
   "id": "b7711915",
   "metadata": {},
   "outputs": [
    {
     "data": {
      "image/png": "[encoded data removed]",
      "text/plain": [
       "<Figure size 432x288 with 1 Axes>"
      ]
     },
     "metadata": {
      "needs_background": "light"
     },
     "output_type": "display_data"
    }
   ],
   "source": [
    "plt.xscale('log')\n",
    "\n",
    "plt.plot(np.sort(errors_hpfc), np.linspace(0, 1, len(errors_hpfc), endpoint=False), alpha = 1,color='blue')\n",
    "plt.plot(np.sort(errors_hpfa), np.linspace(0, 1, len(errors_hpfa), endpoint=False), alpha = 1,color='orange')\n",
    "plt.plot(np.sort(errors_ldp), np.linspace(0, 1, len(errors_ldp), endpoint=False), alpha = 1,color='black')\n",
    "plt.plot(np.sort(errors_uni), np.linspace(0, 1, len(errors_uni), endpoint=False), alpha = 1,color='green')\n",
    "plt.plot(np.sort(est_sm), np.linspace(0, 1, len(est_sm), endpoint=False), alpha = 1,color='red')\n",
    "plt.plot(np.sort(errors_prop), np.linspace(0, 1, len(errors_prop), endpoint=False), alpha = 1,color='violet')\n",
    "\n",
    "\n",
    "plt.ylim(0,1)\n",
    "plt.xlim(min_range, max_range*1.2)\n",
    "\n",
    "plt.axvline(x = np.quantile(errors_hpfc,0.95), color = 'blue', linestyle = '--', label=r'HPF-CP',)\n",
    "plt.axvline(x = np.quantile(errors_hpfa,0.95), color = 'orange', linestyle = '--', label='HPF-A')\n",
    "plt.axvline(x = np.quantile(errors_ldp,0.95), color = 'black', linestyle = '--', label='LDP')\n",
    "plt.axvline(x = np.quantile(errors_uni,0.95), color = 'green', linestyle = '--', label='UNI')\n",
    "plt.axvline(x = np.quantile(est_sm,0.95), color = 'red', linestyle = '--', label='SM')\n",
    "plt.axvline(x = np.quantile(errors_prop,0.95), color = 'violet', linestyle = '--', label='Prop')\n",
    "\n",
    "\n",
    "plt.xlabel('Error')\n",
    "plt.ylabel('Cumulative Distribution')\n",
    "\n",
    "plt.legend(loc='upper left')\n",
    "plt.savefig(\"CorrSyn1.pdf\", \n",
    "            dpi=1000, \n",
    "            bbox_inches='tight', \n",
    "            )\n",
    "plt.show()"
   ]
  },
  {
   "cell_type": "code",
   "execution_count": 23,
   "id": "3d161c10",
   "metadata": {},
   "outputs": [
    {
     "name": "stdout",
     "output_type": "stream",
     "text": [
      "0.10509338854214294 0.08281306736934593 1.0 0.2531385075098613 0.9243870968439448 0.20202101595850294\n"
     ]
    }
   ],
   "source": [
    "print(np.quantile(errors_hpfc,0.95), np.quantile(errors_hpfa,0.95), np.quantile(errors_uni,0.95), np.quantile(errors_ldp,0.95), np.quantile(est_sm,0.95), np.quantile(errors_prop,0.95))"
   ]
  },
  {
   "cell_type": "code",
   "execution_count": 24,
   "id": "6bc41307",
   "metadata": {},
   "outputs": [],
   "source": [
    "### Saving results:\n",
    "errors_hpfc_syn1 = errors_hpfc\n",
    "errors_hpfa_syn1 = errors_hpfa\n",
    "errors_ldp_syn1 = errors_ldp\n",
    "errors_uni_syn1 = errors_uni\n",
    "est_sm_syn1 = est_sm\n",
    "errors_prop_syn1 = errors_prop\n"
   ]
  },
  {
   "cell_type": "markdown",
   "id": "191285d2",
   "metadata": {},
   "source": [
    "## Corr Syn E"
   ]
  },
  {
   "cell_type": "code",
   "execution_count": 25,
   "id": "bd96108b",
   "metadata": {},
   "outputs": [
    {
     "name": "stdout",
     "output_type": "stream",
     "text": [
      "[3040. 2298. 1962. 1518. 1182.]\n",
      "Counts is  [0.304  0.2298 0.1962 0.1518 0.1182]\n",
      "Done HPF-C in  1.0897362232208252  seconds\n",
      "0.012220387232543161 0.006704256976892647 0.8338290013753503 0.027319142573688355 0.7785149310255952 0.040694668362651044\n"
     ]
    }
   ],
   "source": [
    "## Synthetic Dataset\n",
    "np.random.seed(1)\n",
    "beta = 1\n",
    "n = 10000\n",
    "k = 5\n",
    "\n",
    "\n",
    "Data = np.zeros((k,n))\n",
    "_, counts = gen_dataset(n,k,0.8)\n",
    "ct = 0 \n",
    "print(counts)\n",
    "for i in range(len(counts)):\n",
    "\tData[i,ct:ct+int(counts[i])] = 1\n",
    "\tct += int(counts[i])\n",
    "eps = np.zeros(n)\n",
    "ct = 0 \n",
    "for i in range(len(counts)):\n",
    "\teps[ct:ct+int(counts[i])] = np.exp(-2*i+np.random.uniform(0,3*i,int(counts[i])))\n",
    "\tct += int(counts[i])\n",
    "\n",
    "\n",
    "trials = 5000\n",
    "Dmatrix = Data\n",
    "counts = counts/n\n",
    "\n",
    "print('Counts is ',counts)\n",
    "\n",
    "### hpfc ###\n",
    "begin = time.time()\n",
    "w_hpfc, result = solve_hetdp_cor(eps, k, beta, cp.ECOS)\n",
    "L_hpfc = 2*np.max(w_hpfc/eps)\n",
    "N_hpfc = np.random.laplace(0,L_hpfc,(k,trials))\n",
    "end = time.time()\n",
    "print('Done HPF-C in ',end-begin,' seconds')\n",
    "\n",
    "errors_hpfce = get_error_vector(Dmatrix@w_hpfc + N_hpfc.transpose(),counts)\n",
    "print(np.mean(np.square(errors_hpfce)), np.mean(np.square(errors_hpfa)), np.mean(np.square(errors_uni)), np.mean(np.square(errors_ldp)), np.mean(np.square(est_sm)), np.mean(np.square(errors_prop)))"
   ]
  },
  {
   "cell_type": "markdown",
   "id": "0fbd21a8",
   "metadata": {},
   "source": [
    "## Correlated Synthetic k = 20"
   ]
  },
  {
   "cell_type": "code",
   "execution_count": 26,
   "id": "01d3d357",
   "metadata": {},
   "outputs": [
    {
     "name": "stdout",
     "output_type": "stream",
     "text": [
      "[2029. 1632. 1253. 1117.  794.  683.  527.  410.  344.  276.  217.  179.\n",
      "  121.   88.   88.   82.   56.   49.   27.   28.]\n",
      "Counts is  [0.2029 0.1632 0.1253 0.1117 0.0794 0.0683 0.0527 0.041  0.0344 0.0276\n",
      " 0.0217 0.0179 0.0121 0.0088 0.0088 0.0082 0.0056 0.0049 0.0027 0.0028]\n"
     ]
    },
    {
     "name": "stderr",
     "output_type": "stream",
     "text": [
      "/opt/anaconda3/lib/python3.8/site-packages/cvxpy/problems/problem.py:1296: UserWarning: Solution may be inaccurate. Try another solver, adjusting the solver settings, or solve with verbose=True for more information.\n",
      "  warnings.warn(\n"
     ]
    },
    {
     "name": "stdout",
     "output_type": "stream",
     "text": [
      "Done HPF-CP in  1.0915436744689941  seconds\n",
      "Done HPF-A in  0.004186868667602539  seconds\n",
      "Done Prop in  0.003717184066772461  seconds\n",
      "Done UNI in  0.004034996032714844  seconds\n",
      "Done SM in  1.4008870124816895  seconds\n",
      "Done LDP in  113.45682311058044  seconds\n",
      "Done HPF-CE in  1.2125048637390137  seconds\n"
     ]
    }
   ],
   "source": [
    "## Synthetic Dataset\n",
    "np.random.seed(1)\n",
    "beta = 0.05\n",
    "n = 10000\n",
    "k = 20\n",
    "\n",
    "\n",
    "Data = np.zeros((k,n))\n",
    "_, counts = gen_dataset(n,k,0.8)\n",
    "ct = 0 \n",
    "print(counts)\n",
    "for i in range(len(counts)):\n",
    "\tData[i,ct:ct+int(counts[i])] = 1\n",
    "\tct += int(counts[i])\n",
    "eps = np.zeros(n)\n",
    "ct = 0 \n",
    "for i in range(len(counts)):\n",
    "\teps[ct:ct+int(counts[i])] = np.exp(np.random.uniform(-0.3*i,0.3*i,int(counts[i])))\n",
    "\tct += int(counts[i])\n",
    "\n",
    "\n",
    "trials = 5000\n",
    "Dmatrix = Data\n",
    "counts = counts/n\n",
    "\n",
    "print('Counts is ',counts)\n",
    "\n",
    "### hpfc ###\n",
    "begin = time.time()\n",
    "w_hpfc, result = solve_hetdp_cor(eps, k, beta, cp.ECOS)\n",
    "L_hpfc = 2*np.max(w_hpfc/eps)\n",
    "N_hpfc = np.random.laplace(0,L_hpfc,(k,trials))\n",
    "end = time.time()\n",
    "print('Done HPF-CP in ',end-begin,' seconds')\n",
    "\n",
    "\n",
    "### hpfa ###\n",
    "begin = time.time()\n",
    "w_hpfa = 1-np.exp(-eps)\n",
    "w_hpfa = w_hpfa/np.sum(w_hpfa)\n",
    "infty_norm = np.max(w_hpfa/eps)\n",
    "L_hpfa = 2*infty_norm\n",
    "N_hpfa = np.random.laplace(0,L_hpfa,(k,trials))\n",
    "end = time.time()\n",
    "print('Done HPF-A in ',end-begin,' seconds')\n",
    "\n",
    "\n",
    "### Prop ###\n",
    "begin = time.time()\n",
    "w_prop = eps\n",
    "w_prop = w_prop/np.sum(w_prop)\n",
    "L_prop = 2*np.max(w_prop/eps)\n",
    "N_prop = np.random.laplace(0,L_prop,(k,trials))\n",
    "end = time.time()\n",
    "print('Done Prop in ',end-begin,' seconds')\n",
    "\n",
    "\n",
    "### UNI ###\n",
    "begin = time.time()\n",
    "eps1 = np.min(eps)\n",
    "w_uni = np.ones(n)/n\n",
    "L_uni = 2*np.max(1/eps)/n\n",
    "N_uni = np.random.laplace(0,L_uni,(k,trials))\n",
    "end = time.time()\n",
    "print('Done UNI in ',end-begin,' seconds')\n",
    "\n",
    "\n",
    "### SM ###\n",
    "begin = time.time()\n",
    "t = np.max(eps)\n",
    "sm_bern_matrix = np.random.binomial(1,(np.exp(eps)-1)/(np.exp(t)-1), (trials,n))\n",
    "N_sm = np.random.laplace(0,2/(t*np.sum(sm_bern_matrix, axis=1)),size = (k,trials))\n",
    "end = time.time()\n",
    "print('Done SM in ',end-begin,' seconds')\n",
    "\n",
    "\n",
    "### LDP ###\n",
    "begin = time.time()\n",
    "w_ldp, result = solve_ldp_cor(eps, k, beta)\n",
    "ldp_data_matrix = kRAPPOR_cor(eps, Dmatrix, trials)\n",
    "end = time.time()\n",
    "print('Done LDP in ',end-begin,' seconds')\n",
    "\n",
    "\n",
    "begin = time.time()\n",
    "w_hpfce, result = solve_hetdp_cor(eps, k, 1, cp.ECOS)\n",
    "L_hpfce = 2*np.max(w_hpfce/eps)\n",
    "N_hpfce = np.random.laplace(0,L_hpfce,(k,trials))\n",
    "end = time.time()\n",
    "print('Done HPF-CE in ',end-begin,' seconds')\n"
   ]
  },
  {
   "cell_type": "code",
   "execution_count": 27,
   "id": "936c6848",
   "metadata": {},
   "outputs": [],
   "source": [
    "errors_hpfc = get_error_vector(Dmatrix@w_hpfc + N_hpfc.transpose(),counts)\n",
    "errors_hpfa = get_error_vector(Dmatrix@w_hpfa + N_hpfa.transpose(),counts)\n",
    "errors_prop = get_error_vector(Dmatrix@w_prop + N_prop.transpose(),counts)\n",
    "errors_uni = get_error_vector(Dmatrix@w_uni + N_uni.transpose(),counts)\n",
    "errors_ldp = get_error_vector(ldp_data_matrix@w_ldp,counts)\n",
    "errors_sm = get_error_vector((Dmatrix@sm_bern_matrix.transpose()/np.sum(sm_bern_matrix,axis=1) + N_sm).transpose(),counts)\n",
    "errors_hpfce = get_error_vector(Dmatrix@w_hpfce + N_hpfce.transpose(),counts)"
   ]
  },
  {
   "cell_type": "code",
   "execution_count": 28,
   "id": "1658fb44",
   "metadata": {},
   "outputs": [],
   "source": [
    "params = {'text.usetex' : True,\n",
    "          'font.size' : 11,\n",
    "\t\t  'legend.fontsize': 9,\n",
    "          'legend.handlelength': 1.5,\n",
    "          }\n",
    "plt.rcParams.update(params) \n",
    "\n",
    "min_range = min(min(errors_hpfa),min(errors_hpfc), min(errors_uni) , min(errors_ldp), min(errors_prop))\n",
    "max_range = max(max(errors_hpfa),max(errors_hpfc), max(errors_uni) , max(errors_ldp), max(errors_prop))"
   ]
  },
  {
   "cell_type": "code",
   "execution_count": 43,
   "id": "848306dc",
   "metadata": {},
   "outputs": [
    {
     "data": {
      "image/png": "[encoded data removed]",
      "text/plain": [
       "<Figure size 432x288 with 1 Axes>"
      ]
     },
     "metadata": {
      "needs_background": "light"
     },
     "output_type": "display_data"
    }
   ],
   "source": [
    "plt.xscale('log')\n",
    "\n",
    "plt.plot(np.sort(errors_hpfc), np.linspace(0, 1, len(errors_hpfc), endpoint=False), alpha = 1,color='blue')\n",
    "plt.plot(np.sort(errors_hpfa), np.linspace(0, 1, len(errors_hpfa), endpoint=False), alpha = 1,color='orange')\n",
    "plt.plot(np.sort(errors_ldp), np.linspace(0, 1, len(errors_ldp), endpoint=False), alpha = 1,color='black')\n",
    "plt.plot(np.sort(errors_uni), np.linspace(0, 1, len(errors_uni), endpoint=False), alpha = 1,color='green')\n",
    "plt.plot(np.sort(est_sm), np.linspace(0, 1, len(est_sm), endpoint=False), alpha = 1,color='red')\n",
    "plt.plot(np.sort(errors_prop), np.linspace(0, 1, len(errors_prop), endpoint=False), alpha = 1,color='violet')\n",
    "\n",
    "\n",
    "plt.ylim(0,1)\n",
    "plt.xlim(min_range, 0.3)\n",
    "\n",
    "plt.axvline(x = np.quantile(errors_hpfc,0.95), color = 'blue', linestyle = '--', label='HPF-CP',)\n",
    "plt.axvline(x = np.quantile(errors_hpfa,0.95), color = 'orange', linestyle = '--', label='HPF-A')\n",
    "plt.axvline(x = np.quantile(errors_ldp,0.95), color = 'black', linestyle = '--', label='LDP')\n",
    "plt.axvline(x = np.quantile(errors_uni,0.95), color = 'green', linestyle = '--', label='UNI')\n",
    "#plt.axvline(x = np.quantile(errors_sm,0.95), color = 'red', linestyle = '--', label='SM')\n",
    "plt.axvline(x = np.quantile(errors_prop,0.95), color = 'violet', linestyle = '--', label='Prop')\n",
    "\n",
    "\n",
    "plt.xlabel('Error')\n",
    "plt.ylabel('Cumulative Distribution')\n",
    "\n",
    "plt.legend(loc='upper left')\n",
    "plt.savefig(\"CorrSyn2.pdf\", \n",
    "            dpi=1000, \n",
    "            bbox_inches='tight', \n",
    "            )\n",
    "plt.show()"
   ]
  },
  {
   "cell_type": "code",
   "execution_count": 42,
   "id": "e28a5828",
   "metadata": {},
   "outputs": [
    {
     "name": "stdout",
     "output_type": "stream",
     "text": [
      "0.020236980582578393 0.003343892067475588 0.09035949685512419 0.23229171758629233 1.0 0.1248234805141269\n",
      "0.0003095090066237647 7.009998132099727e-06 0.021878911016569674 0.00841545354386958 0.7785149310255952 0.008119535559311641\n"
     ]
    }
   ],
   "source": [
    "print(np.quantile(errors_hpfc,0.95), np.quantile(errors_hpfa,0.95), np.quantile(errors_prop,0.95), np.quantile(errors_uni,0.95), np.quantile(errors_sm,0.95), np.quantile(errors_ldp,0.95) )\n",
    "print(np.mean(np.square(errors_hpfce)), np.mean(np.square(errors_hpfa)), np.mean(np.square(errors_uni)), np.mean(np.square(errors_ldp)), np.mean(np.square(est_sm)), np.mean(np.square(errors_prop)))"
   ]
  },
  {
   "cell_type": "code",
   "execution_count": 44,
   "id": "776e5620",
   "metadata": {},
   "outputs": [],
   "source": [
    "\n",
    "### Saving results:\n",
    "errors_hpfc_syn2 = errors_hpfc\n",
    "errors_hpfa_syn2 = errors_hpfa\n",
    "errors_ldp_syn2 = errors_ldp\n",
    "errors_uni_syn2 = errors_uni\n",
    "errors_sm_syn2 = errors_sm\n",
    "errors_prop_syn2 = errors_prop\n",
    "\n"
   ]
  },
  {
   "cell_type": "markdown",
   "id": "90a9f664",
   "metadata": {},
   "source": [
    "## Uncorrelated Dataset : Cancer"
   ]
  },
  {
   "cell_type": "code",
   "execution_count": 6,
   "id": "7eb55ec9",
   "metadata": {},
   "outputs": [
    {
     "name": "stdout",
     "output_type": "stream",
     "text": [
      "17236\n"
     ]
    }
   ],
   "source": [
    "## Real Cancer Dataset\n",
    "#counts = np.array([933,3268,31521,7354,470,1472,3279,1095,3013,3590,976])\n",
    "counts = np.array([4083,3372,2373,1772,1158,1066,983,909,790,730])\n",
    "total = np.sum(counts)\n",
    "print(total)\n",
    "k = len(counts)\n",
    "n = total\n",
    "Data = np.zeros((k,n))\n",
    "ct = 0 \n",
    "for i in range(len(counts)):\n",
    "\tData[i,ct:ct+counts[i]] = 1\n",
    "\tct += counts[i]\n",
    "\n",
    "np.random.seed(1)\n",
    "eps = np.exp(np.random.uniform(-5,5,n))"
   ]
  },
  {
   "cell_type": "code",
   "execution_count": 7,
   "id": "b735c309",
   "metadata": {},
   "outputs": [
    {
     "name": "stdout",
     "output_type": "stream",
     "text": [
      "Counts is  [0.23688791 0.19563704 0.13767696 0.10280808 0.06718496 0.0618473\n",
      " 0.05703179 0.05273845 0.0458343  0.04235321]\n"
     ]
    },
    {
     "name": "stderr",
     "output_type": "stream",
     "text": [
      "/opt/anaconda3/lib/python3.8/site-packages/cvxpy/problems/problem.py:1296: UserWarning: Solution may be inaccurate. Try another solver, adjusting the solver settings, or solve with verbose=True for more information.\n",
      "  warnings.warn(\n"
     ]
    },
    {
     "name": "stdout",
     "output_type": "stream",
     "text": [
      "Done HPF-U in  5.595345973968506  seconds\n",
      "Done HPF-A in  0.05071616172790527  seconds\n",
      "Done Prop in  0.052865028381347656  seconds\n",
      "Done UNI in  0.051056861877441406  seconds\n",
      "Done SM in  93.7796368598938  seconds\n",
      "Done LDP in  0.005295991897583008  seconds\n",
      "Done HPF-UE in  4.766402959823608  seconds\n"
     ]
    }
   ],
   "source": [
    "### Uncorrelated\n",
    "np.random.seed(1)\n",
    "beta = 0.05\n",
    "trials = int(n*np.log(n))\n",
    "\n",
    "Dmatrix = Data\n",
    "counts = np.sum(Dmatrix,axis=1)/n\n",
    "print('Counts is ',counts)\n",
    "\n",
    "### hpfu ###\n",
    "begin = time.time()\n",
    "w_hpfu, result = solve_hetdp_uncor(eps, k, beta, cp.ECOS)\n",
    "L_hpfu = 2*np.max(w_hpfu/eps)\n",
    "N_hpfu = np.random.laplace(0,L_hpfu,(k,trials))\n",
    "end = time.time()\n",
    "print('Done HPF-U in ',end-begin,' seconds')\n",
    "\n",
    "\n",
    "### hpfa ###\n",
    "begin = time.time()\n",
    "w_hpfa = 1-np.exp(-eps)\n",
    "w_hpfa = w_hpfa/np.sum(w_hpfa)\n",
    "infty_norm = np.max(w_hpfa/eps)\n",
    "L_hpfa = 2*infty_norm\n",
    "N_hpfa = np.random.laplace(0,L_hpfa,(k,trials))\n",
    "end = time.time()\n",
    "print('Done HPF-A in ',end-begin,' seconds')\n",
    "\n",
    "\n",
    "### Prop ###\n",
    "begin = time.time()\n",
    "w_prop = eps\n",
    "w_prop = w_prop/np.sum(w_prop)\n",
    "L_prop = 2*np.max(w_prop/eps)\n",
    "N_prop = np.random.laplace(0,L_prop,(k,trials))\n",
    "end = time.time()\n",
    "print('Done Prop in ',end-begin,' seconds')\n",
    "\n",
    "\n",
    "### UNI ###\n",
    "begin = time.time()\n",
    "eps1 = np.min(eps)\n",
    "w_uni = np.ones(n)/n\n",
    "L_uni = 2*np.max(1/eps)/n\n",
    "N_uni = np.random.laplace(0,L_uni,(k,trials))\n",
    "end = time.time()\n",
    "print('Done UNI in ',end-begin,' seconds')\n",
    "\n",
    "### SM ###\n",
    "begin = time.time()\n",
    "t = np.max(eps)\n",
    "sm_bern_matrix = np.random.binomial(1,(np.exp(eps)-1)/(np.exp(t)-1), (trials,n))\n",
    "N_sm = np.random.laplace(0,2/(t*np.sum(sm_bern_matrix, axis=1)),size = (k,trials))\n",
    "end = time.time()\n",
    "print('Done SM in ',end-begin,' seconds')\n",
    "\n",
    "\n",
    "### LDP ###\n",
    "begin = time.time()\n",
    "w_ldp, result = solve_ldp_uncor(eps, k, beta)\n",
    "end = time.time()\n",
    "print('Done LDP in ',end-begin,' seconds')\n",
    "\n",
    "### hpfue ###\n",
    "begin = time.time()\n",
    "w_hpfue, result = solve_hetdp_uncor(eps, k, 1, cp.ECOS)\n",
    "L_hpfue = 2*np.max(w_hpfue/eps)\n",
    "N_hpfue = np.random.laplace(0,L_hpfue,(k,trials))\n",
    "end = time.time()\n",
    "print('Done HPF-UE in ',end-begin,' seconds')\n"
   ]
  },
  {
   "cell_type": "code",
   "execution_count": 11,
   "id": "f0ab4d5f",
   "metadata": {},
   "outputs": [
    {
     "name": "stderr",
     "output_type": "stream",
     "text": [
      "100%|██████████| 168132/168132 [1:19:08<00:00, 35.41it/s]\n"
     ]
    }
   ],
   "source": [
    "errors_hpfu = np.zeros(trials)\n",
    "errors_hpfa = np.zeros(trials)\n",
    "errors_prop = np.zeros(trials)\n",
    "errors_uni = np.zeros(trials)\n",
    "errors_hpfue = np.zeros(trials)\n",
    "errors_ldp = np.zeros(trials)\n",
    "errors_sm = np.zeros(trials)\n",
    "\n",
    "\n",
    "for _ in tqdm(range(trials)):\n",
    "\tnp.random.shuffle(np.transpose(Dmatrix))\n",
    "\n",
    "\test_hpfu= Dmatrix@w_hpfu + N_hpfu[:,_]\n",
    "\test_hpfa = Dmatrix@w_hpfa + N_hpfa[:,_]\n",
    "\test_uni = Dmatrix@w_uni + N_uni[:,_]\n",
    "\test_prop = Dmatrix@w_prop + N_prop[:,_]\n",
    "\test_hpfue = Dmatrix@w_hpfue + N_hpfue[:,_]\n",
    "\test_ldp = kRAPPOR_uncor(eps, Dmatrix, 1)@w_ldp\n",
    "\n",
    "\tw_bern = sm_bern_matrix[_,:]\n",
    "\tw_bern = w_bern/np.sum(w_bern)\n",
    "\test_sm = Dmatrix@w_bern + N_sm[:,_]\n",
    "\n",
    "\terrors_hpfu[_]= get_error(est_hpfu,counts)\n",
    "\terrors_hpfa[_]= get_error(est_hpfa,counts)\n",
    "\terrors_uni[_]= get_error(est_uni,counts)\n",
    "\terrors_prop[_]= get_error(est_prop,counts)\n",
    "\terrors_hpfue[_]= get_error(est_hpfue,counts)\n",
    "\terrors_ldp[_]= get_error(est_ldp,counts)\n",
    "\terrors_sm[_] = get_error(est_sm,counts)"
   ]
  },
  {
   "cell_type": "code",
   "execution_count": 35,
   "id": "daf98489",
   "metadata": {},
   "outputs": [],
   "source": [
    "params = {'text.usetex' : True,\n",
    "          'font.size' : 11,\n",
    "\t\t  'legend.fontsize': 9,\n",
    "          'legend.handlelength': 1.5,\n",
    "          }\n",
    "plt.rcParams.update(params) \n",
    "\n",
    "min_range = min(min(errors_hpfa),min(errors_hpfu), min(errors_uni) , min(errors_prop))\n",
    "max_range = max(max(errors_hpfa),max(errors_hpfu), max(errors_uni) , max(errors_prop))"
   ]
  },
  {
   "cell_type": "code",
   "execution_count": 37,
   "id": "1902793f",
   "metadata": {},
   "outputs": [
    {
     "data": {
      "image/png": "[encoded data removed]",
      "text/plain": [
       "<Figure size 432x288 with 1 Axes>"
      ]
     },
     "metadata": {
      "needs_background": "light"
     },
     "output_type": "display_data"
    }
   ],
   "source": [
    "plt.xscale('log')\n",
    "\n",
    "\n",
    "plt.plot(np.sort(errors_hpfu), np.linspace(0, 1, len(errors_hpfu), endpoint=False), alpha = 1,color='blue')\n",
    "plt.plot(np.sort(errors_hpfa), np.linspace(0, 1, len(errors_hpfa), endpoint=False), alpha = 1,color='orange')\n",
    "plt.plot(np.sort(errors_uni), np.linspace(0, 1, len(errors_uni), endpoint=False), alpha = 1,color='green')\n",
    "plt.plot(np.sort(errors_prop), np.linspace(0, 1, len(errors_prop), endpoint=False), alpha = 1,color='violet')\n",
    "\n",
    "plt.ylim(0,1)\n",
    "plt.xlim(min_range, max_range*1.2)\n",
    "\n",
    "plt.axvline(x = np.quantile(errors_hpfu,0.95), color = 'blue', linestyle = '--', label='HPF-UP',)\n",
    "plt.axvline(x = np.quantile(errors_hpfa,0.95), color = 'orange', linestyle = '--', label='HPF-A')\n",
    "plt.axvline(x = np.quantile(errors_uni,0.95), color = 'green', linestyle = '--', label='UNI')\n",
    "plt.axvline(x = np.quantile(errors_prop,0.95), color = 'violet', linestyle = '--', label='Prop')\n",
    "\n",
    "\n",
    "plt.xlabel('Error')\n",
    "plt.ylabel('Cumulative Distribution')\n",
    "\n",
    "plt.legend(loc='upper left')\n",
    "plt.savefig(\"Cancer.pdf\", \n",
    "            dpi=1000, \n",
    "            bbox_inches='tight', \n",
    "            )\n",
    "plt.show()"
   ]
  },
  {
   "cell_type": "code",
   "execution_count": 12,
   "id": "4d36f18b",
   "metadata": {},
   "outputs": [
    {
     "name": "stdout",
     "output_type": "stream",
     "text": [
      "0.008814626284076438 0.005453460868215771 0.014321706160819798 0.09070982061013007 0.012103899440573976 0.38217738340575635\n",
      "5.376860322924356e-05 1.2264619185221269e-05 0.0029936070072068646 8.408109562087843e-05 6.987777578349769e-05 0.03559458832286573\n"
     ]
    }
   ],
   "source": [
    "print(np.quantile(errors_hpfu,0.95), np.quantile(errors_hpfa,0.95), np.quantile(errors_prop,0.95), np.quantile(errors_uni,0.95), np.quantile(errors_ldp,0.95), np.quantile(est_sm,0.95))\n",
    "print(np.mean(np.square(errors_hpfue)), np.mean(np.square(errors_hpfa)), np.mean(np.square(errors_uni)), np.mean(np.square(errors_prop)), np.mean(np.square(errors_ldp)), np.mean(np.square(est_sm)))"
   ]
  },
  {
   "cell_type": "code",
   "execution_count": 13,
   "id": "d390a033",
   "metadata": {},
   "outputs": [],
   "source": [
    "### Saving results:\n",
    "errors_hpfu_cancer = errors_hpfu\n",
    "errors_hpfa_cancer = errors_hpfa\n",
    "errors_uni_cancer = errors_uni\n",
    "errors_prop_cancer = errors_prop\n",
    "errors_hpfue_cancer = errors_hpfue"
   ]
  },
  {
   "cell_type": "markdown",
   "id": "e0a9005b",
   "metadata": {},
   "source": [
    "### Uncorrelated Synthetic k=5"
   ]
  },
  {
   "cell_type": "code",
   "execution_count": 14,
   "id": "cc96d472",
   "metadata": {},
   "outputs": [
    {
     "name": "stdout",
     "output_type": "stream",
     "text": [
      "Counts is  [2907. 2365. 1889. 1625. 1214.]\n"
     ]
    },
    {
     "name": "stderr",
     "output_type": "stream",
     "text": [
      "/opt/anaconda3/lib/python3.8/site-packages/cvxpy/problems/problem.py:1296: UserWarning: Solution may be inaccurate. Try another solver, adjusting the solver settings, or solve with verbose=True for more information.\n",
      "  warnings.warn(\n"
     ]
    },
    {
     "name": "stdout",
     "output_type": "stream",
     "text": [
      "Done HPF-U in  2.517873764038086  seconds\n",
      "Done HPF-A in  0.03339219093322754  seconds\n",
      "Done Prop in  0.03639388084411621  seconds\n",
      "Done UNI in  0.03203177452087402  seconds\n",
      "Done HPF-UE in  1.8894128799438477  seconds\n",
      "Done SM in  61.98192882537842  seconds\n",
      "Done LDP in  0.0009043216705322266  seconds\n"
     ]
    }
   ],
   "source": [
    "## Synthetic Dataset\n",
    "np.random.seed(1)\n",
    "beta = 0.05\n",
    "n = 10000\n",
    "k = 5\n",
    "trials = int(n*np.log(n)*2)\n",
    "eps = np.exp(np.random.uniform(-6,6,n))\n",
    "\n",
    "Dmatrix , counts = gen_dataset(n,k,0.8)\n",
    "print('Counts is ',counts)\n",
    "counts = counts/np.sum(counts)\n",
    "\n",
    "### hpfu ###\n",
    "begin = time.time()\n",
    "w_hpfu, result = solve_hetdp_uncor(eps, k, beta, cp.ECOS)\n",
    "L_hpfu = 2*np.max(w_hpfu/eps)\n",
    "N_hpfu = np.random.laplace(0,L_hpfu,(k,trials))\n",
    "end = time.time()\n",
    "print('Done HPF-U in ',end-begin,' seconds')\n",
    "\n",
    "\n",
    "### hpfa ###\n",
    "begin = time.time()\n",
    "w_hpfa = 1-np.exp(-eps)\n",
    "w_hpfa = w_hpfa/np.sum(w_hpfa)\n",
    "infty_norm = np.max(w_hpfa/eps)\n",
    "L_hpfa = 2*infty_norm\n",
    "N_hpfa = np.random.laplace(0,L_hpfa,(k,trials))\n",
    "end = time.time()\n",
    "print('Done HPF-A in ',end-begin,' seconds')\n",
    "\n",
    "\n",
    "### Prop ###\n",
    "begin = time.time()\n",
    "w_prop = eps\n",
    "w_prop = w_prop/np.sum(w_prop)\n",
    "L_prop = 2*np.max(w_prop/eps)\n",
    "N_prop = np.random.laplace(0,L_prop,(k,trials))\n",
    "end = time.time()\n",
    "print('Done Prop in ',end-begin,' seconds')\n",
    "\n",
    "\n",
    "### UNI ###\n",
    "begin = time.time()\n",
    "eps1 = np.min(eps)\n",
    "w_uni = np.ones(n)/n\n",
    "L_uni = 2*np.max(1/eps)/n\n",
    "N_uni = np.random.laplace(0,L_uni,(k,trials))\n",
    "end = time.time()\n",
    "print('Done UNI in ',end-begin,' seconds')\n",
    "\n",
    "\n",
    "### hpfu ###\n",
    "begin = time.time()\n",
    "w_hpfue, result = solve_hetdp_uncor(eps, k, 1, cp.ECOS)\n",
    "L_hpfue = 2*np.max(w_hpfue/eps)\n",
    "N_hpfue = np.random.laplace(0,L_hpfue,(k,trials))\n",
    "end = time.time()\n",
    "print('Done HPF-UE in ',end-begin,' seconds')\n",
    "\n",
    "\n",
    "### SM ###\n",
    "begin = time.time()\n",
    "t = np.max(eps)\n",
    "sm_bern_matrix = np.random.binomial(1,(np.exp(eps)-1)/(np.exp(t)-1), (trials,n))\n",
    "N_sm = np.random.laplace(0,2/(t*np.sum(sm_bern_matrix, axis=1)),size = (k,trials))\n",
    "end = time.time()\n",
    "print('Done SM in ',end-begin,' seconds')\n",
    "\n",
    "\n",
    "### LDP ###\n",
    "begin = time.time()\n",
    "w_ldp, result = solve_ldp_uncor(eps, k, beta)\n",
    "end = time.time()\n",
    "print('Done LDP in ',end-begin,' seconds')"
   ]
  },
  {
   "cell_type": "code",
   "execution_count": 15,
   "id": "4e3ed89f",
   "metadata": {},
   "outputs": [
    {
     "name": "stderr",
     "output_type": "stream",
     "text": [
      "100%|██████████| 184206/184206 [41:29<00:00, 74.00it/s] \n"
     ]
    }
   ],
   "source": [
    "errors_hpfu = np.zeros(trials)\n",
    "errors_hpfa = np.zeros(trials)\n",
    "errors_prop = np.zeros(trials)\n",
    "errors_uni = np.zeros(trials)\n",
    "errors_hpfue = np.zeros(trials)\n",
    "errors_ldp = np.zeros(trials)\n",
    "errors_sm = np.zeros(trials)\n",
    "\n",
    "\n",
    "for _ in tqdm(range(trials)):\n",
    "\tnp.random.shuffle(np.transpose(Dmatrix))\n",
    "\n",
    "\test_hpfu= Dmatrix@w_hpfu + N_hpfu[:,_]\n",
    "\test_hpfa = Dmatrix@w_hpfa + N_hpfa[:,_]\n",
    "\test_uni = Dmatrix@w_uni + N_uni[:,_]\n",
    "\test_prop = Dmatrix@w_prop + N_prop[:,_]\n",
    "\test_hpfue = Dmatrix@w_hpfue + N_hpfue[:,_]\n",
    "\test_ldp = kRAPPOR_uncor(eps, Dmatrix, 1)@w_ldp\n",
    "\n",
    "\tw_bern = sm_bern_matrix[_,:]\n",
    "\tw_bern = w_bern/np.sum(w_bern)\n",
    "\test_sm = Dmatrix@w_bern + N_sm[:,_]\n",
    "\n",
    "\terrors_hpfu[_]= get_error(est_hpfu,counts)\n",
    "\terrors_hpfa[_]= get_error(est_hpfa,counts)\n",
    "\terrors_uni[_]= get_error(est_uni,counts)\n",
    "\terrors_prop[_]= get_error(est_prop,counts)\n",
    "\terrors_hpfue[_]= get_error(est_hpfue,counts)\n",
    "\terrors_ldp[_]= get_error(est_ldp,counts)\n",
    "\terrors_sm[_] = get_error(est_sm,counts)"
   ]
  },
  {
   "cell_type": "code",
   "execution_count": 33,
   "id": "cf3652bd",
   "metadata": {},
   "outputs": [],
   "source": [
    "params = {'text.usetex' : True,\n",
    "          'font.size' : 11,\n",
    "\t\t  'legend.fontsize': 9,\n",
    "          'legend.handlelength': 1.5,\n",
    "          }\n",
    "plt.rcParams.update(params) \n",
    "\n",
    "min_range = min(min(errors_hpfa),min(errors_hpfu), min(errors_uni) , min(errors_prop))\n",
    "max_range = max(max(errors_hpfa),max(errors_hpfu), max(errors_uni) , max(errors_prop))"
   ]
  },
  {
   "cell_type": "code",
   "execution_count": 49,
   "id": "360d8094",
   "metadata": {},
   "outputs": [
    {
     "data": {
      "image/png": "[encoded data removed]",
      "text/plain": [
       "<Figure size 432x288 with 1 Axes>"
      ]
     },
     "metadata": {
      "needs_background": "light"
     },
     "output_type": "display_data"
    }
   ],
   "source": [
    "plt.xscale('log')\n",
    "\n",
    "\n",
    "plt.plot(np.sort(errors_hpfu), np.linspace(0, 1, len(errors_hpfu), endpoint=False), alpha = 1,color='blue')\n",
    "plt.plot(np.sort(errors_hpfa), np.linspace(0, 1, len(errors_hpfa), endpoint=False), alpha = 1,color='orange')\n",
    "plt.plot(np.sort(errors_uni), np.linspace(0, 1, len(errors_uni), endpoint=False), alpha = 1,color='green')\n",
    "plt.plot(np.sort(errors_prop), np.linspace(0, 1, len(errors_prop), endpoint=False), alpha = 1,color='violet')\n",
    "\n",
    "plt.ylim(0,1)\n",
    "plt.xlim(0.001, 1)\n",
    "\n",
    "plt.axvline(x = np.quantile(errors_hpfu,0.95), color = 'blue', linestyle = '--', label='HPF-UP',)\n",
    "plt.axvline(x = np.quantile(errors_hpfa,0.95), color = 'orange', linestyle = '--', label='HPF-A')\n",
    "plt.axvline(x = np.quantile(errors_uni,0.95), color = 'green', linestyle = '--', label='UNI')\n",
    "plt.axvline(x = np.quantile(errors_prop,0.95), color = 'violet', linestyle = '--', label='Prop')\n",
    "\n",
    "\n",
    "plt.xlabel('Error')\n",
    "plt.ylabel('Cumulative Distribution')\n",
    "\n",
    "plt.legend(loc='upper left')\n",
    "plt.savefig(\"UncorSyn1.pdf\", \n",
    "            dpi=1000, \n",
    "            bbox_inches='tight', \n",
    "            )\n",
    "plt.show()"
   ]
  },
  {
   "cell_type": "code",
   "execution_count": 16,
   "id": "e3c0266c",
   "metadata": {},
   "outputs": [
    {
     "name": "stdout",
     "output_type": "stream",
     "text": [
      "0.012066888535923925 0.008326334857397498 0.02340465008524735 0.3701049436632545 0.015223873718396619 0.7979466062052823 0.01813995919408108\n",
      "0.00010701397233633128 2.7281916997787283e-05 0.043390480101849635 0.00021412680682850836 9.594196908206719e-05 0.19827040210768035\n"
     ]
    }
   ],
   "source": [
    "print(np.quantile(errors_hpfu,0.95), np.quantile(errors_hpfa,0.95), np.quantile(errors_prop,0.95), np.quantile(errors_uni,0.95), np.quantile(errors_ldp,0.95), np.quantile(est_sm,0.95), np.quantile(errors_hpfue,0.95))\n",
    "print(np.mean(np.square(errors_hpfue)), np.mean(np.square(errors_hpfa)), np.mean(np.square(errors_uni)), np.mean(np.square(errors_prop)), np.mean(np.square(errors_ldp)), np.mean(np.square(est_sm)))"
   ]
  },
  {
   "cell_type": "code",
   "execution_count": 17,
   "id": "3a900808",
   "metadata": {},
   "outputs": [],
   "source": [
    "### Saving results:\n",
    "errors_hpfu_syn1 = errors_hpfu\n",
    "errors_hpfa_syn1 = errors_hpfa\n",
    "errors_uni_syn1 = errors_uni\n",
    "errors_prop_syn1 = errors_prop"
   ]
  },
  {
   "cell_type": "markdown",
   "id": "b35c8211",
   "metadata": {},
   "source": [
    "### Uncor Syn k=20"
   ]
  },
  {
   "cell_type": "code",
   "execution_count": 21,
   "id": "4add5637",
   "metadata": {},
   "outputs": [
    {
     "name": "stdout",
     "output_type": "stream",
     "text": [
      "Counts is  [2004. 1561. 1265. 1051.  835.  676.  562.  437.  379.  264.  213.  200.\n",
      "  143.  111.   75.   64.   56.   47.   26.   31.]\n",
      "Done HPF-U in  2.5599100589752197  seconds\n",
      "Done HPF-A in  0.10256576538085938  seconds\n",
      "Done Prop in  0.09769916534423828  seconds\n",
      "Done UNI in  0.10422420501708984  seconds\n",
      "Done HPF-UE in  2.071277141571045  seconds\n",
      "Done SM in  58.447999000549316  seconds\n",
      "Done LDP in  0.0015077590942382812  seconds\n"
     ]
    }
   ],
   "source": [
    "## Synthetic Dataset\n",
    "np.random.seed(1)\n",
    "beta = 0.05\n",
    "n = 10000\n",
    "k = 20\n",
    "trials = int(n*np.log(n)*2)\n",
    "eps = np.exp(np.random.uniform(-6,6,n))\n",
    "\n",
    "Dmatrix , counts = gen_dataset(n,k,0.8)\n",
    "print('Counts is ',counts)\n",
    "counts = counts/np.sum(counts)\n",
    "\n",
    "### hpfu ###\n",
    "begin = time.time()\n",
    "w_hpfu, result = solve_hetdp_uncor(eps, k, beta, cp.ECOS)\n",
    "L_hpfu = 2*np.max(w_hpfu/eps)\n",
    "N_hpfu = np.random.laplace(0,L_hpfu,(k,trials))\n",
    "end = time.time()\n",
    "print('Done HPF-U in ',end-begin,' seconds')\n",
    "\n",
    "\n",
    "### hpfa ###\n",
    "begin = time.time()\n",
    "w_hpfa = 1-np.exp(-eps)\n",
    "w_hpfa = w_hpfa/np.sum(w_hpfa)\n",
    "infty_norm = np.max(w_hpfa/eps)\n",
    "L_hpfa = 2*infty_norm\n",
    "N_hpfa = np.random.laplace(0,L_hpfa,(k,trials))\n",
    "end = time.time()\n",
    "print('Done HPF-A in ',end-begin,' seconds')\n",
    "\n",
    "\n",
    "### Prop ###\n",
    "begin = time.time()\n",
    "w_prop = eps\n",
    "w_prop = w_prop/np.sum(w_prop)\n",
    "L_prop = 2*np.max(w_prop/eps)\n",
    "N_prop = np.random.laplace(0,L_prop,(k,trials))\n",
    "end = time.time()\n",
    "print('Done Prop in ',end-begin,' seconds')\n",
    "\n",
    "\n",
    "### UNI ###\n",
    "begin = time.time()\n",
    "eps1 = np.min(eps)\n",
    "w_uni = np.ones(n)/n\n",
    "L_uni = 2*np.max(1/eps)/n\n",
    "N_uni = np.random.laplace(0,L_uni,(k,trials))\n",
    "end = time.time()\n",
    "print('Done UNI in ',end-begin,' seconds')\n",
    "\n",
    "\n",
    "### hpfue ###\n",
    "begin = time.time()\n",
    "w_hpfue, result = solve_hetdp_uncor(eps, k, 1, cp.ECOS)\n",
    "L_hpfue = 2*np.max(w_hpfue/eps)\n",
    "N_hpfue = np.random.laplace(0,L_hpfue,(k,trials))\n",
    "end = time.time()\n",
    "print('Done HPF-UE in ',end-begin,' seconds')\n",
    "\n",
    "\n",
    "\n",
    "### SM ###\n",
    "begin = time.time()\n",
    "t = np.max(eps)\n",
    "sm_bern_matrix = np.random.binomial(1,(np.exp(eps)-1)/(np.exp(t)-1), (trials,n))\n",
    "N_sm = np.random.laplace(0,2/(t*np.sum(sm_bern_matrix, axis=1)),size = (k,trials))\n",
    "end = time.time()\n",
    "print('Done SM in ',end-begin,' seconds')\n",
    "\n",
    "\n",
    "### LDP ###\n",
    "begin = time.time()\n",
    "w_ldp, result = solve_ldp_uncor(eps, k, beta)\n",
    "end = time.time()\n",
    "print('Done LDP in ',end-begin,' seconds')"
   ]
  },
  {
   "cell_type": "code",
   "execution_count": 22,
   "id": "a8c45f5f",
   "metadata": {},
   "outputs": [
    {
     "name": "stderr",
     "output_type": "stream",
     "text": [
      "100%|██████████| 184206/184206 [1:11:24<00:00, 43.00it/s]\n"
     ]
    }
   ],
   "source": [
    "errors_hpfu = np.zeros(trials)\n",
    "errors_hpfa = np.zeros(trials)\n",
    "errors_prop = np.zeros(trials)\n",
    "errors_uni = np.zeros(trials)\n",
    "errors_hpfue = np.zeros(trials)\n",
    "errors_ldp = np.zeros(trials)\n",
    "errors_sm = np.zeros(trials)\n",
    "\n",
    "\n",
    "for _ in tqdm(range(trials)):\n",
    "\tnp.random.shuffle(np.transpose(Dmatrix))\n",
    "\t\n",
    "\test_hpfu= Dmatrix@w_hpfu + N_hpfu[:,_]\n",
    "\test_hpfa = Dmatrix@w_hpfa + N_hpfa[:,_]\n",
    "\test_uni = Dmatrix@w_uni + N_uni[:,_]\n",
    "\test_prop = Dmatrix@w_prop + N_prop[:,_]\n",
    "\test_hpfue = Dmatrix@w_hpfue + N_hpfue[:,_]\n",
    "\test_ldp = kRAPPOR_uncor(eps, Dmatrix, 1)@w_ldp\n",
    "\n",
    "\tw_bern = sm_bern_matrix[_,:]\n",
    "\tw_bern = w_bern/np.sum(w_bern)\n",
    "\test_sm = Dmatrix@w_bern + N_sm[:,_]\n",
    "\n",
    "\n",
    "\terrors_hpfu[_]= get_error(est_hpfu,counts)\n",
    "\terrors_hpfa[_]= get_error(est_hpfa,counts)\n",
    "\terrors_uni[_]= get_error(est_uni,counts)\n",
    "\terrors_prop[_]= get_error(est_prop,counts)\n",
    "\terrors_hpfue[_]= get_error(est_hpfue,counts)\n",
    "\terrors_ldp[_]= get_error(est_ldp,counts)\n",
    "\terrors_sm[_] = get_error(est_sm,counts)"
   ]
  },
  {
   "cell_type": "code",
   "execution_count": 40,
   "id": "c9cc1922",
   "metadata": {},
   "outputs": [],
   "source": [
    "params = {'text.usetex' : True,\n",
    "          'font.size' : 11,\n",
    "\t\t  'legend.fontsize': 9,\n",
    "          'legend.handlelength': 1.5,\n",
    "          }\n",
    "plt.rcParams.update(params) \n",
    "\n",
    "min_range = min(min(errors_hpfa),min(errors_hpfu), min(errors_uni) , min(errors_prop))\n",
    "max_range = max(max(errors_hpfa),max(errors_hpfu), max(errors_uni) , max(errors_prop))"
   ]
  },
  {
   "cell_type": "code",
   "execution_count": 53,
   "id": "9ff0f21f",
   "metadata": {},
   "outputs": [
    {
     "data": {
      "image/png": "[encoded data removed]",
      "text/plain": [
       "<Figure size 432x288 with 1 Axes>"
      ]
     },
     "metadata": {
      "needs_background": "light"
     },
     "output_type": "display_data"
    }
   ],
   "source": [
    "plt.xscale('log')\n",
    "\n",
    "plt.plot(np.sort(errors_hpfu), np.linspace(0, 1, len(errors_hpfu), endpoint=False), alpha = 1,color='blue')\n",
    "plt.plot(np.sort(errors_hpfa), np.linspace(0, 1, len(errors_hpfa), endpoint=False), alpha = 1,color='orange')\n",
    "plt.plot(np.sort(errors_uni), np.linspace(0, 1, len(errors_uni), endpoint=False), alpha = 1,color='green')\n",
    "plt.plot(np.sort(errors_prop), np.linspace(0, 1, len(errors_prop), endpoint=False), alpha = 1,color='violet')\n",
    "\n",
    "plt.ylim(0,1)\n",
    "plt.xlim(min_range, max_range)\n",
    "\n",
    "plt.axvline(x = np.quantile(errors_hpfu,0.95), color = 'blue', linestyle = '--', label='HPF-UP',)\n",
    "plt.axvline(x = np.quantile(errors_hpfa,0.95), color = 'orange', linestyle = '--', label='HPF-A')\n",
    "plt.axvline(x = np.quantile(errors_uni,0.95), color = 'green', linestyle = '--', label='UNI')\n",
    "plt.axvline(x = np.quantile(errors_prop,0.95), color = 'violet', linestyle = '--', label='Prop')\n",
    "\n",
    "\n",
    "plt.xlabel('Error')\n",
    "plt.ylabel('Cumulative Distribution')\n",
    "\n",
    "plt.legend(loc='upper left')\n",
    "plt.savefig(\"UncorSyn2.pdf\", \n",
    "            dpi=1000, \n",
    "            bbox_inches='tight', \n",
    "            )\n",
    "plt.show()"
   ]
  },
  {
   "cell_type": "code",
   "execution_count": 23,
   "id": "9f1d3430",
   "metadata": {},
   "outputs": [
    {
     "name": "stdout",
     "output_type": "stream",
     "text": [
      "0.01337331847310251 0.007239571717432218 0.02021965332865671 0.4816506596387832 0.014922244237561012 0.34836595243959945\n",
      "0.0001324226080272763 2.2323098535329862e-05 0.09459984036678623 0.00017276999694489185 0.00011603322153990765 0.02772339966060196\n"
     ]
    }
   ],
   "source": [
    "print(np.quantile(errors_hpfu,0.95), np.quantile(errors_hpfa,0.95), np.quantile(errors_prop,0.95), np.quantile(errors_uni,0.95), np.quantile(errors_ldp,0.95), np.quantile(est_sm,0.95))\n",
    "print(np.mean(np.square(errors_hpfue)), np.mean(np.square(errors_hpfa)), np.mean(np.square(errors_uni)), np.mean(np.square(errors_prop)), np.mean(np.square(errors_ldp)), np.mean(np.square(est_sm)))"
   ]
  },
  {
   "cell_type": "markdown",
   "id": "de981c0a",
   "metadata": {},
   "source": [
    "# Mean Estimation"
   ]
  },
  {
   "cell_type": "code",
   "execution_count": 24,
   "id": "002aea0c",
   "metadata": {},
   "outputs": [],
   "source": [
    "def solve_ldp_cor(eps, k, beta):\n",
    "\tn = len(eps)\n",
    "\tones = np.ones(n)\n",
    "\tcoefs = n+((np.log(k/beta))/np.square(eps))\n",
    "\n",
    "\tw = 1/coefs\n",
    "\tw = w/np.sum(w)\n",
    "\treturn w, 1\n",
    "\n",
    "def solve_ldp_uncor(eps, k, beta):\n",
    "\tn = len(eps)\n",
    "\tones = np.ones(n)\n",
    "\tcoefs = 1+(1/np.square(eps))\n",
    "\n",
    "\tw = 1/coefs\n",
    "\tw = w/np.sum(w)\n",
    "\treturn w, 1"
   ]
  },
  {
   "cell_type": "markdown",
   "id": "2531aa6d",
   "metadata": {},
   "source": [
    "## UC Salary, C, P"
   ]
  },
  {
   "cell_type": "code",
   "execution_count": 66,
   "id": "273a7a55",
   "metadata": {},
   "outputs": [
    {
     "name": "stdout",
     "output_type": "stream",
     "text": [
      "1 5770000\n",
      "324043\n",
      "Mean is  64606.93504\n"
     ]
    },
    {
     "name": "stderr",
     "output_type": "stream",
     "text": [
      "/opt/anaconda3/lib/python3.8/site-packages/cvxpy/problems/problem.py:1296: UserWarning: Solution may be inaccurate. Try another solver, adjusting the solver settings, or solve with verbose=True for more information.\n",
      "  warnings.warn(\n"
     ]
    },
    {
     "name": "stdout",
     "output_type": "stream",
     "text": [
      "Done HPM-CP in  10.57554006576538  seconds\n",
      "Done HPF-A in  0.007319927215576172  seconds\n",
      "Done Prop in  0.003594636917114258  seconds\n",
      "Done UNI in  0.003741025924682617  seconds\n",
      "Done SM in  9.865974187850952  seconds\n"
     ]
    },
    {
     "ename": "",
     "evalue": "",
     "output_type": "error",
     "traceback": [
      "\u001b[1;31mThe Kernel crashed while executing code in the current cell or a previous cell. \n",
      "\u001b[1;31mPlease review the code in the cell(s) to identify a possible cause of the failure. \n",
      "\u001b[1;31mClick <a href='https://aka.ms/vscodeJupyterKernelCrash'>here</a> for more info. \n",
      "\u001b[1;31mView Jupyter <a href='command:jupyter.viewOutput'>log</a> for further details."
     ]
    }
   ],
   "source": [
    "## Real Dataset\n",
    "np.random.seed(1)\n",
    "df =  pd.read_csv('UCData.csv')\n",
    "x = np.array(df['TotalWages'])\n",
    "print(np.min(x),np.max(x))\n",
    "print(len(x))\n",
    "x = np.random.choice(x,50000,replace=False) #sub-sample dataset\n",
    "\n",
    "def get_bin(x):\n",
    "\tif x < 1000:\n",
    "\t\treturn 0\n",
    "\telif x < 5000:\n",
    "\t\treturn 1\n",
    "\telif x < 15000:\n",
    "\t\treturn 2\n",
    "\telif x < 30000:\n",
    "\t\treturn 3\n",
    "\telif x < 60000:\n",
    "\t\treturn 4\n",
    "\telif x < 120000:\n",
    "\t\treturn 5\n",
    "\telif x < 240000:\n",
    "\t\treturn 6\n",
    "\telif x < 480000:\n",
    "\t\treturn 7\n",
    "\telif x < 960000:\n",
    "\t\treturn 8\n",
    "\telif x < 2000000:\n",
    "\t\treturn 9\n",
    "\telif x < 4000000:\n",
    "\t\treturn 10\n",
    "\telse:\n",
    "\t\treturn 11\n",
    "\n",
    "np.random.seed(1)\n",
    "eps = np.zeros(len(x))\n",
    "ct = 0 \n",
    "for i in range(len(x)):\n",
    "\teps[i] = np.exp(-abs(get_bin(x[i])-2.5) + np.random.uniform(-3,3))\n",
    "\n",
    "### Correlated\n",
    "np.random.seed(1)\n",
    "beta = 0.05\n",
    "n = len(x)\n",
    "k = 1\n",
    "trials = 5000\n",
    "scale = 10000000\n",
    "\n",
    "Data = x\n",
    "mean = np.sum(Data)/n\n",
    "print('Mean is ',mean)\n",
    "\n",
    "### hpfc ###\n",
    "begin = time.time()\n",
    "w_hpfc, result = solve_hetdp_cor(eps, k, beta, cp.ECOS)\n",
    "L_hpfc = np.max(scale*w_hpfc/eps)\n",
    "N_hpfc = np.random.laplace(0,L_hpfc,trials)\n",
    "end = time.time()\n",
    "print('Done HPM-CP in ',end-begin,' seconds')\n",
    "\n",
    "\n",
    "### hpfa ###\n",
    "begin = time.time()\n",
    "w_hpfa = 1-np.exp(-eps)\n",
    "w_hpfa = w_hpfa/np.sum(w_hpfa)\n",
    "infty_norm = np.max(scale*w_hpfa/eps)\n",
    "L_hpfa = infty_norm\n",
    "N_hpfa = np.random.laplace(0,L_hpfa,trials)\n",
    "end = time.time()\n",
    "print('Done HPF-A in ',end-begin,' seconds')\n",
    "\n",
    "\n",
    "### Prop ###\n",
    "begin = time.time()\n",
    "w_prop = eps\n",
    "w_prop = w_prop/np.sum(w_prop)\n",
    "L_prop = scale*np.max(w_prop/eps)\n",
    "N_prop = np.random.laplace(0,L_prop,trials)\n",
    "end = time.time()\n",
    "print('Done Prop in ',end-begin,' seconds')\n",
    "\n",
    "\n",
    "### UNI ###\n",
    "begin = time.time()\n",
    "eps1 = np.min(eps)\n",
    "w_uni = np.ones(n)/n\n",
    "L_uni = scale*np.max(1/eps)/n\n",
    "N_uni = np.random.laplace(0,L_uni,trials)\n",
    "end = time.time()\n",
    "print('Done UNI in ',end-begin,' seconds')\n",
    "\n",
    "\n",
    "### SM ###\n",
    "begin = time.time()\n",
    "t = np.max(eps)\n",
    "sm_bern_matrix = np.random.binomial(1,(np.exp(eps)-1)/(np.exp(t)-1), (trials,n))\n",
    "N_sm = np.random.laplace(0,scale/(t*np.sum(sm_bern_matrix, axis=1)),size = trials)\n",
    "end = time.time()\n",
    "print('Done SM in ',end-begin,' seconds')\n",
    "\n",
    "\n",
    "### LDP ###\n",
    "begin = time.time()\n",
    "w_ldp, result = solve_ldp_cor(eps, k, beta)\n",
    "ldp_data_matrix = kRAPPOR_cor(eps, Data, trials)\n",
    "end = time.time()\n",
    "print('Done LDP in ',end-begin,' seconds')"
   ]
  },
  {
   "cell_type": "code",
   "execution_count": 65,
   "id": "83d566d3",
   "metadata": {},
   "outputs": [
    {
     "name": "stdout",
     "output_type": "stream",
     "text": [
      "[-0.41578297  1.40403196 -2.39278309 ...  1.81251171 -2.74661975\n",
      "  2.27919947]\n"
     ]
    }
   ],
   "source": [
    "print(eps)"
   ]
  },
  {
   "cell_type": "code",
   "execution_count": null,
   "id": "5ee39328",
   "metadata": {},
   "outputs": [],
   "source": []
  }
 ],
 "metadata": {
  "kernelspec": {
   "display_name": "Python 3",
   "language": "python",
   "name": "python3"
  },
  "language_info": {
   "codemirror_mode": {
    "name": "ipython",
    "version": 3
   },
   "file_extension": ".py",
   "mimetype": "text/x-python",
   "name": "python",
   "nbconvert_exporter": "python",
   "pygments_lexer": "ipython3",
   "version": "3.8.8"
  }
 },
 "nbformat": 4,
 "nbformat_minor": 5
}
